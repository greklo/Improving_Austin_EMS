{
 "cells": [
  {
   "cell_type": "code",
   "execution_count": 1,
   "metadata": {},
   "outputs": [
    {
     "name": "stderr",
     "output_type": "stream",
     "text": [
      "/Users/gregoryklose/anaconda3/lib/python3.6/site-packages/sklearn/cross_validation.py:41: DeprecationWarning: This module was deprecated in version 0.18 in favor of the model_selection module into which all the refactored classes and functions are moved. Also note that the interface of the new CV iterators are different from that of this module. This module will be removed in 0.20.\n",
      "  \"This module will be removed in 0.20.\", DeprecationWarning)\n"
     ]
    }
   ],
   "source": [
    "import pandas as pd\n",
    "import numpy as np\n",
    "from sklearn.cross_validation import train_test_split\n",
    "from sklearn.linear_model import LinearRegression\n",
    "import matplotlib.pyplot as plt\n",
    "import seaborn as sns\n",
    "%matplotlib inline\n",
    "sns.set(color_codes = True)\n",
    "\n",
    "import warnings\n",
    "warnings.filterwarnings('ignore')"
   ]
  },
  {
   "cell_type": "code",
   "execution_count": 2,
   "metadata": {
    "collapsed": true
   },
   "outputs": [],
   "source": [
    "df = pd.read_csv('data/updated_merged_df')"
   ]
  },
  {
   "cell_type": "code",
   "execution_count": 3,
   "metadata": {},
   "outputs": [
    {
     "data": {
      "text/html": [
       "<div>\n",
       "<style scoped>\n",
       "    .dataframe tbody tr th:only-of-type {\n",
       "        vertical-align: middle;\n",
       "    }\n",
       "\n",
       "    .dataframe tbody tr th {\n",
       "        vertical-align: top;\n",
       "    }\n",
       "\n",
       "    .dataframe thead th {\n",
       "        text-align: right;\n",
       "    }\n",
       "</style>\n",
       "<table border=\"1\" class=\"dataframe\">\n",
       "  <thead>\n",
       "    <tr style=\"text-align: right;\">\n",
       "      <th></th>\n",
       "      <th>Unnamed: 0</th>\n",
       "      <th>incident_date</th>\n",
       "      <th>priority</th>\n",
       "      <th>time_phone_pickup</th>\n",
       "      <th>disposition</th>\n",
       "      <th>council_district</th>\n",
       "      <th>census_county_code</th>\n",
       "      <th>census_tract</th>\n",
       "      <th>census_block</th>\n",
       "      <th>census_geoID</th>\n",
       "      <th>...</th>\n",
       "      <th>Day_of_week (int)</th>\n",
       "      <th>Day_of_week (name)</th>\n",
       "      <th>Hour</th>\n",
       "      <th>Hour (10-23)</th>\n",
       "      <th>Hour (0-9)</th>\n",
       "      <th>incident_ID</th>\n",
       "      <th>time_incident_closed</th>\n",
       "      <th>time_unit_arrived</th>\n",
       "      <th>Lat</th>\n",
       "      <th>Long</th>\n",
       "    </tr>\n",
       "  </thead>\n",
       "  <tbody>\n",
       "    <tr>\n",
       "      <th>0</th>\n",
       "      <td>0</td>\n",
       "      <td>2012-01-01 00:00:00</td>\n",
       "      <td>4</td>\n",
       "      <td>2011-12-31 20:32:54</td>\n",
       "      <td>ATCEMS Transport</td>\n",
       "      <td>9</td>\n",
       "      <td>453</td>\n",
       "      <td>1100</td>\n",
       "      <td>1118</td>\n",
       "      <td>484530011001118</td>\n",
       "      <td>...</td>\n",
       "      <td>5</td>\n",
       "      <td>Saturday</td>\n",
       "      <td>20</td>\n",
       "      <td>1</td>\n",
       "      <td>0</td>\n",
       "      <td>1</td>\n",
       "      <td>2012-01-01 03:40:39</td>\n",
       "      <td>2012-01-01 03:03:07</td>\n",
       "      <td>30.266295</td>\n",
       "      <td>-97.742436</td>\n",
       "    </tr>\n",
       "    <tr>\n",
       "      <th>1</th>\n",
       "      <td>1</td>\n",
       "      <td>2012-01-01 00:00:00</td>\n",
       "      <td>4</td>\n",
       "      <td>2012-01-01 00:03:46</td>\n",
       "      <td>Patient Refusal</td>\n",
       "      <td>5</td>\n",
       "      <td>453</td>\n",
       "      <td>2428</td>\n",
       "      <td>1003</td>\n",
       "      <td>484530024281003</td>\n",
       "      <td>...</td>\n",
       "      <td>6</td>\n",
       "      <td>Sunday</td>\n",
       "      <td>0</td>\n",
       "      <td>0</td>\n",
       "      <td>1</td>\n",
       "      <td>2</td>\n",
       "      <td>2012-01-01 01:21:12</td>\n",
       "      <td>2012-01-01 00:35:56</td>\n",
       "      <td>30.138892</td>\n",
       "      <td>-97.781719</td>\n",
       "    </tr>\n",
       "    <tr>\n",
       "      <th>2</th>\n",
       "      <td>2</td>\n",
       "      <td>2012-01-01 00:00:00</td>\n",
       "      <td>4</td>\n",
       "      <td>2012-01-01 00:08:43</td>\n",
       "      <td>No Patient / False Alarm</td>\n",
       "      <td>9</td>\n",
       "      <td>453</td>\n",
       "      <td>1100</td>\n",
       "      <td>1080</td>\n",
       "      <td>484530011001080</td>\n",
       "      <td>...</td>\n",
       "      <td>6</td>\n",
       "      <td>Sunday</td>\n",
       "      <td>0</td>\n",
       "      <td>0</td>\n",
       "      <td>1</td>\n",
       "      <td>3</td>\n",
       "      <td>2012-01-01 00:11:29</td>\n",
       "      <td>NaN</td>\n",
       "      <td>30.266295</td>\n",
       "      <td>-97.742436</td>\n",
       "    </tr>\n",
       "    <tr>\n",
       "      <th>3</th>\n",
       "      <td>3</td>\n",
       "      <td>2012-01-01 00:00:00</td>\n",
       "      <td>2</td>\n",
       "      <td>2012-01-01 00:11:47</td>\n",
       "      <td>Patient Refusal</td>\n",
       "      <td>3</td>\n",
       "      <td>453</td>\n",
       "      <td>2314</td>\n",
       "      <td>2010</td>\n",
       "      <td>484530023142010</td>\n",
       "      <td>...</td>\n",
       "      <td>6</td>\n",
       "      <td>Sunday</td>\n",
       "      <td>0</td>\n",
       "      <td>0</td>\n",
       "      <td>1</td>\n",
       "      <td>4</td>\n",
       "      <td>2012-01-01 01:03:06</td>\n",
       "      <td>2012-01-01 00:17:22</td>\n",
       "      <td>30.224696</td>\n",
       "      <td>-97.715512</td>\n",
       "    </tr>\n",
       "    <tr>\n",
       "      <th>4</th>\n",
       "      <td>4</td>\n",
       "      <td>2012-01-01 00:00:00</td>\n",
       "      <td>3</td>\n",
       "      <td>2012-01-01 00:16:14</td>\n",
       "      <td>ATCEMS Transport</td>\n",
       "      <td>2</td>\n",
       "      <td>453</td>\n",
       "      <td>2430</td>\n",
       "      <td>1019</td>\n",
       "      <td>484530024301019</td>\n",
       "      <td>...</td>\n",
       "      <td>6</td>\n",
       "      <td>Sunday</td>\n",
       "      <td>0</td>\n",
       "      <td>0</td>\n",
       "      <td>1</td>\n",
       "      <td>5</td>\n",
       "      <td>2012-01-01 01:09:11</td>\n",
       "      <td>2012-01-01 00:24:58</td>\n",
       "      <td>30.171708</td>\n",
       "      <td>-97.755044</td>\n",
       "    </tr>\n",
       "  </tbody>\n",
       "</table>\n",
       "<p>5 rows × 25 columns</p>\n",
       "</div>"
      ],
      "text/plain": [
       "   Unnamed: 0        incident_date  priority    time_phone_pickup  \\\n",
       "0           0  2012-01-01 00:00:00         4  2011-12-31 20:32:54   \n",
       "1           1  2012-01-01 00:00:00         4  2012-01-01 00:03:46   \n",
       "2           2  2012-01-01 00:00:00         4  2012-01-01 00:08:43   \n",
       "3           3  2012-01-01 00:00:00         2  2012-01-01 00:11:47   \n",
       "4           4  2012-01-01 00:00:00         3  2012-01-01 00:16:14   \n",
       "\n",
       "                disposition  council_district  census_county_code  \\\n",
       "0          ATCEMS Transport                 9                 453   \n",
       "1           Patient Refusal                 5                 453   \n",
       "2  No Patient / False Alarm                 9                 453   \n",
       "3           Patient Refusal                 3                 453   \n",
       "4          ATCEMS Transport                 2                 453   \n",
       "\n",
       "   census_tract  census_block     census_geoID    ...      Day_of_week (int)  \\\n",
       "0          1100          1118  484530011001118    ...                      5   \n",
       "1          2428          1003  484530024281003    ...                      6   \n",
       "2          1100          1080  484530011001080    ...                      6   \n",
       "3          2314          2010  484530023142010    ...                      6   \n",
       "4          2430          1019  484530024301019    ...                      6   \n",
       "\n",
       "  Day_of_week (name)  Hour  Hour (10-23)  Hour (0-9)  incident_ID  \\\n",
       "0           Saturday    20             1           0            1   \n",
       "1             Sunday     0             0           1            2   \n",
       "2             Sunday     0             0           1            3   \n",
       "3             Sunday     0             0           1            4   \n",
       "4             Sunday     0             0           1            5   \n",
       "\n",
       "  time_incident_closed    time_unit_arrived        Lat       Long  \n",
       "0  2012-01-01 03:40:39  2012-01-01 03:03:07  30.266295 -97.742436  \n",
       "1  2012-01-01 01:21:12  2012-01-01 00:35:56  30.138892 -97.781719  \n",
       "2  2012-01-01 00:11:29                  NaN  30.266295 -97.742436  \n",
       "3  2012-01-01 01:03:06  2012-01-01 00:17:22  30.224696 -97.715512  \n",
       "4  2012-01-01 01:09:11  2012-01-01 00:24:58  30.171708 -97.755044  \n",
       "\n",
       "[5 rows x 25 columns]"
      ]
     },
     "execution_count": 3,
     "metadata": {},
     "output_type": "execute_result"
    }
   ],
   "source": [
    "df.head()"
   ]
  },
  {
   "cell_type": "code",
   "execution_count": 4,
   "metadata": {
    "collapsed": true
   },
   "outputs": [],
   "source": [
    "df = df.drop('Unnamed: 0',axis=1)"
   ]
  },
  {
   "cell_type": "code",
   "execution_count": 5,
   "metadata": {},
   "outputs": [
    {
     "data": {
      "text/html": [
       "<div>\n",
       "<style scoped>\n",
       "    .dataframe tbody tr th:only-of-type {\n",
       "        vertical-align: middle;\n",
       "    }\n",
       "\n",
       "    .dataframe tbody tr th {\n",
       "        vertical-align: top;\n",
       "    }\n",
       "\n",
       "    .dataframe thead th {\n",
       "        text-align: right;\n",
       "    }\n",
       "</style>\n",
       "<table border=\"1\" class=\"dataframe\">\n",
       "  <thead>\n",
       "    <tr style=\"text-align: right;\">\n",
       "      <th></th>\n",
       "      <th>incident_date</th>\n",
       "      <th>priority</th>\n",
       "      <th>time_phone_pickup</th>\n",
       "      <th>disposition</th>\n",
       "      <th>council_district</th>\n",
       "      <th>census_county_code</th>\n",
       "      <th>census_tract</th>\n",
       "      <th>census_block</th>\n",
       "      <th>census_geoID</th>\n",
       "      <th>FIPS_geoID</th>\n",
       "      <th>...</th>\n",
       "      <th>Day_of_week (int)</th>\n",
       "      <th>Day_of_week (name)</th>\n",
       "      <th>Hour</th>\n",
       "      <th>Hour (10-23)</th>\n",
       "      <th>Hour (0-9)</th>\n",
       "      <th>incident_ID</th>\n",
       "      <th>time_incident_closed</th>\n",
       "      <th>time_unit_arrived</th>\n",
       "      <th>Lat</th>\n",
       "      <th>Long</th>\n",
       "    </tr>\n",
       "  </thead>\n",
       "  <tbody>\n",
       "    <tr>\n",
       "      <th>0</th>\n",
       "      <td>2012-01-01 00:00:00</td>\n",
       "      <td>4</td>\n",
       "      <td>2011-12-31 20:32:54</td>\n",
       "      <td>ATCEMS Transport</td>\n",
       "      <td>9</td>\n",
       "      <td>453</td>\n",
       "      <td>1100</td>\n",
       "      <td>1118</td>\n",
       "      <td>484530011001118</td>\n",
       "      <td>48453001100</td>\n",
       "      <td>...</td>\n",
       "      <td>5</td>\n",
       "      <td>Saturday</td>\n",
       "      <td>20</td>\n",
       "      <td>1</td>\n",
       "      <td>0</td>\n",
       "      <td>1</td>\n",
       "      <td>2012-01-01 03:40:39</td>\n",
       "      <td>2012-01-01 03:03:07</td>\n",
       "      <td>30.266295</td>\n",
       "      <td>-97.742436</td>\n",
       "    </tr>\n",
       "    <tr>\n",
       "      <th>1</th>\n",
       "      <td>2012-01-01 00:00:00</td>\n",
       "      <td>4</td>\n",
       "      <td>2012-01-01 00:03:46</td>\n",
       "      <td>Patient Refusal</td>\n",
       "      <td>5</td>\n",
       "      <td>453</td>\n",
       "      <td>2428</td>\n",
       "      <td>1003</td>\n",
       "      <td>484530024281003</td>\n",
       "      <td>48453002428</td>\n",
       "      <td>...</td>\n",
       "      <td>6</td>\n",
       "      <td>Sunday</td>\n",
       "      <td>0</td>\n",
       "      <td>0</td>\n",
       "      <td>1</td>\n",
       "      <td>2</td>\n",
       "      <td>2012-01-01 01:21:12</td>\n",
       "      <td>2012-01-01 00:35:56</td>\n",
       "      <td>30.138892</td>\n",
       "      <td>-97.781719</td>\n",
       "    </tr>\n",
       "    <tr>\n",
       "      <th>2</th>\n",
       "      <td>2012-01-01 00:00:00</td>\n",
       "      <td>4</td>\n",
       "      <td>2012-01-01 00:08:43</td>\n",
       "      <td>No Patient / False Alarm</td>\n",
       "      <td>9</td>\n",
       "      <td>453</td>\n",
       "      <td>1100</td>\n",
       "      <td>1080</td>\n",
       "      <td>484530011001080</td>\n",
       "      <td>48453001100</td>\n",
       "      <td>...</td>\n",
       "      <td>6</td>\n",
       "      <td>Sunday</td>\n",
       "      <td>0</td>\n",
       "      <td>0</td>\n",
       "      <td>1</td>\n",
       "      <td>3</td>\n",
       "      <td>2012-01-01 00:11:29</td>\n",
       "      <td>NaN</td>\n",
       "      <td>30.266295</td>\n",
       "      <td>-97.742436</td>\n",
       "    </tr>\n",
       "    <tr>\n",
       "      <th>3</th>\n",
       "      <td>2012-01-01 00:00:00</td>\n",
       "      <td>2</td>\n",
       "      <td>2012-01-01 00:11:47</td>\n",
       "      <td>Patient Refusal</td>\n",
       "      <td>3</td>\n",
       "      <td>453</td>\n",
       "      <td>2314</td>\n",
       "      <td>2010</td>\n",
       "      <td>484530023142010</td>\n",
       "      <td>48453002314</td>\n",
       "      <td>...</td>\n",
       "      <td>6</td>\n",
       "      <td>Sunday</td>\n",
       "      <td>0</td>\n",
       "      <td>0</td>\n",
       "      <td>1</td>\n",
       "      <td>4</td>\n",
       "      <td>2012-01-01 01:03:06</td>\n",
       "      <td>2012-01-01 00:17:22</td>\n",
       "      <td>30.224696</td>\n",
       "      <td>-97.715512</td>\n",
       "    </tr>\n",
       "    <tr>\n",
       "      <th>4</th>\n",
       "      <td>2012-01-01 00:00:00</td>\n",
       "      <td>3</td>\n",
       "      <td>2012-01-01 00:16:14</td>\n",
       "      <td>ATCEMS Transport</td>\n",
       "      <td>2</td>\n",
       "      <td>453</td>\n",
       "      <td>2430</td>\n",
       "      <td>1019</td>\n",
       "      <td>484530024301019</td>\n",
       "      <td>48453002430</td>\n",
       "      <td>...</td>\n",
       "      <td>6</td>\n",
       "      <td>Sunday</td>\n",
       "      <td>0</td>\n",
       "      <td>0</td>\n",
       "      <td>1</td>\n",
       "      <td>5</td>\n",
       "      <td>2012-01-01 01:09:11</td>\n",
       "      <td>2012-01-01 00:24:58</td>\n",
       "      <td>30.171708</td>\n",
       "      <td>-97.755044</td>\n",
       "    </tr>\n",
       "  </tbody>\n",
       "</table>\n",
       "<p>5 rows × 24 columns</p>\n",
       "</div>"
      ],
      "text/plain": [
       "         incident_date  priority    time_phone_pickup  \\\n",
       "0  2012-01-01 00:00:00         4  2011-12-31 20:32:54   \n",
       "1  2012-01-01 00:00:00         4  2012-01-01 00:03:46   \n",
       "2  2012-01-01 00:00:00         4  2012-01-01 00:08:43   \n",
       "3  2012-01-01 00:00:00         2  2012-01-01 00:11:47   \n",
       "4  2012-01-01 00:00:00         3  2012-01-01 00:16:14   \n",
       "\n",
       "                disposition  council_district  census_county_code  \\\n",
       "0          ATCEMS Transport                 9                 453   \n",
       "1           Patient Refusal                 5                 453   \n",
       "2  No Patient / False Alarm                 9                 453   \n",
       "3           Patient Refusal                 3                 453   \n",
       "4          ATCEMS Transport                 2                 453   \n",
       "\n",
       "   census_tract  census_block     census_geoID   FIPS_geoID    ...      \\\n",
       "0          1100          1118  484530011001118  48453001100    ...       \n",
       "1          2428          1003  484530024281003  48453002428    ...       \n",
       "2          1100          1080  484530011001080  48453001100    ...       \n",
       "3          2314          2010  484530023142010  48453002314    ...       \n",
       "4          2430          1019  484530024301019  48453002430    ...       \n",
       "\n",
       "  Day_of_week (int)  Day_of_week (name)  Hour  Hour (10-23)  Hour (0-9)  \\\n",
       "0                 5            Saturday    20             1           0   \n",
       "1                 6              Sunday     0             0           1   \n",
       "2                 6              Sunday     0             0           1   \n",
       "3                 6              Sunday     0             0           1   \n",
       "4                 6              Sunday     0             0           1   \n",
       "\n",
       "  incident_ID  time_incident_closed    time_unit_arrived        Lat       Long  \n",
       "0           1   2012-01-01 03:40:39  2012-01-01 03:03:07  30.266295 -97.742436  \n",
       "1           2   2012-01-01 01:21:12  2012-01-01 00:35:56  30.138892 -97.781719  \n",
       "2           3   2012-01-01 00:11:29                  NaN  30.266295 -97.742436  \n",
       "3           4   2012-01-01 01:03:06  2012-01-01 00:17:22  30.224696 -97.715512  \n",
       "4           5   2012-01-01 01:09:11  2012-01-01 00:24:58  30.171708 -97.755044  \n",
       "\n",
       "[5 rows x 24 columns]"
      ]
     },
     "execution_count": 5,
     "metadata": {},
     "output_type": "execute_result"
    }
   ],
   "source": [
    "df.head()"
   ]
  },
  {
   "cell_type": "code",
   "execution_count": null,
   "metadata": {
    "collapsed": true
   },
   "outputs": [],
   "source": []
  },
  {
   "cell_type": "markdown",
   "metadata": {},
   "source": [
    "## Plot increasing year over year incidents"
   ]
  },
  {
   "cell_type": "code",
   "execution_count": 6,
   "metadata": {
    "collapsed": true
   },
   "outputs": [],
   "source": [
    "# Remove year 2011\n",
    "df = df[df['Year'] != 2011]"
   ]
  },
  {
   "cell_type": "code",
   "execution_count": 7,
   "metadata": {
    "collapsed": true
   },
   "outputs": [],
   "source": [
    "df_years = df.groupby('Year')[['incident_ID']].count().reset_index()"
   ]
  },
  {
   "cell_type": "code",
   "execution_count": 8,
   "metadata": {},
   "outputs": [
    {
     "data": {
      "text/html": [
       "<div>\n",
       "<style scoped>\n",
       "    .dataframe tbody tr th:only-of-type {\n",
       "        vertical-align: middle;\n",
       "    }\n",
       "\n",
       "    .dataframe tbody tr th {\n",
       "        vertical-align: top;\n",
       "    }\n",
       "\n",
       "    .dataframe thead th {\n",
       "        text-align: right;\n",
       "    }\n",
       "</style>\n",
       "<table border=\"1\" class=\"dataframe\">\n",
       "  <thead>\n",
       "    <tr style=\"text-align: right;\">\n",
       "      <th></th>\n",
       "      <th>Year</th>\n",
       "      <th>incident_ID</th>\n",
       "    </tr>\n",
       "  </thead>\n",
       "  <tbody>\n",
       "    <tr>\n",
       "      <th>0</th>\n",
       "      <td>2012</td>\n",
       "      <td>96717</td>\n",
       "    </tr>\n",
       "    <tr>\n",
       "      <th>1</th>\n",
       "      <td>2013</td>\n",
       "      <td>98038</td>\n",
       "    </tr>\n",
       "    <tr>\n",
       "      <th>2</th>\n",
       "      <td>2014</td>\n",
       "      <td>103304</td>\n",
       "    </tr>\n",
       "    <tr>\n",
       "      <th>3</th>\n",
       "      <td>2015</td>\n",
       "      <td>110608</td>\n",
       "    </tr>\n",
       "    <tr>\n",
       "      <th>4</th>\n",
       "      <td>2016</td>\n",
       "      <td>111119</td>\n",
       "    </tr>\n",
       "    <tr>\n",
       "      <th>5</th>\n",
       "      <td>2017</td>\n",
       "      <td>94139</td>\n",
       "    </tr>\n",
       "  </tbody>\n",
       "</table>\n",
       "</div>"
      ],
      "text/plain": [
       "   Year  incident_ID\n",
       "0  2012        96717\n",
       "1  2013        98038\n",
       "2  2014       103304\n",
       "3  2015       110608\n",
       "4  2016       111119\n",
       "5  2017        94139"
      ]
     },
     "execution_count": 8,
     "metadata": {},
     "output_type": "execute_result"
    }
   ],
   "source": [
    "df_years"
   ]
  },
  {
   "cell_type": "code",
   "execution_count": 9,
   "metadata": {},
   "outputs": [
    {
     "data": {
      "image/png": "[encoded data removed]",
      "text/plain": [
       "<matplotlib.figure.Figure at 0x108dd13c8>"
      ]
     },
     "metadata": {},
     "output_type": "display_data"
    }
   ],
   "source": [
    "df_years.plot(x='Year',y='incident_ID')\n",
    "plt.ylabel('EMS Dispatches')\n",
    "plt.title('Dispatches Per Year')\n",
    "plt.show()"
   ]
  },
  {
   "cell_type": "markdown",
   "metadata": {},
   "source": [
    "## Plot incidents by day of week"
   ]
  },
  {
   "cell_type": "code",
   "execution_count": 10,
   "metadata": {},
   "outputs": [
    {
     "data": {
      "text/plain": [
       "Index(['incident_date', 'priority', 'time_phone_pickup', 'disposition',\n",
       "       'council_district', 'census_county_code', 'census_tract',\n",
       "       'census_block', 'census_geoID', 'FIPS_geoID', 'census_block_name',\n",
       "       'Year', 'Month', 'Day', 'Day_of_week (int)', 'Day_of_week (name)',\n",
       "       'Hour', 'Hour (10-23)', 'Hour (0-9)', 'incident_ID',\n",
       "       'time_incident_closed', 'time_unit_arrived', 'Latitude', 'Longitude',\n",
       "       'Geolocation'],\n",
       "      dtype='object')"
      ]
     },
     "execution_count": 10,
     "metadata": {},
     "output_type": "execute_result"
    }
   ],
   "source": [
    "df.columns"
   ]
  },
  {
   "cell_type": "code",
   "execution_count": 10,
   "metadata": {
    "collapsed": true
   },
   "outputs": [],
   "source": [
    "df_days = df.groupby('Day_of_week (name)')[['incident_ID']].count().reset_index()"
   ]
  },
  {
   "cell_type": "code",
   "execution_count": 11,
   "metadata": {},
   "outputs": [
    {
     "data": {
      "text/html": [
       "<div>\n",
       "<style scoped>\n",
       "    .dataframe tbody tr th:only-of-type {\n",
       "        vertical-align: middle;\n",
       "    }\n",
       "\n",
       "    .dataframe tbody tr th {\n",
       "        vertical-align: top;\n",
       "    }\n",
       "\n",
       "    .dataframe thead th {\n",
       "        text-align: right;\n",
       "    }\n",
       "</style>\n",
       "<table border=\"1\" class=\"dataframe\">\n",
       "  <thead>\n",
       "    <tr style=\"text-align: right;\">\n",
       "      <th></th>\n",
       "      <th>Day_of_week (name)</th>\n",
       "      <th>incident_ID</th>\n",
       "    </tr>\n",
       "  </thead>\n",
       "  <tbody>\n",
       "    <tr>\n",
       "      <th>0</th>\n",
       "      <td>Friday</td>\n",
       "      <td>91967</td>\n",
       "    </tr>\n",
       "    <tr>\n",
       "      <th>1</th>\n",
       "      <td>Monday</td>\n",
       "      <td>87268</td>\n",
       "    </tr>\n",
       "    <tr>\n",
       "      <th>2</th>\n",
       "      <td>Saturday</td>\n",
       "      <td>91218</td>\n",
       "    </tr>\n",
       "    <tr>\n",
       "      <th>3</th>\n",
       "      <td>Sunday</td>\n",
       "      <td>86616</td>\n",
       "    </tr>\n",
       "    <tr>\n",
       "      <th>4</th>\n",
       "      <td>Thursday</td>\n",
       "      <td>86830</td>\n",
       "    </tr>\n",
       "    <tr>\n",
       "      <th>5</th>\n",
       "      <td>Tuesday</td>\n",
       "      <td>84974</td>\n",
       "    </tr>\n",
       "    <tr>\n",
       "      <th>6</th>\n",
       "      <td>Wednesday</td>\n",
       "      <td>85052</td>\n",
       "    </tr>\n",
       "  </tbody>\n",
       "</table>\n",
       "</div>"
      ],
      "text/plain": [
       "  Day_of_week (name)  incident_ID\n",
       "0             Friday        91967\n",
       "1             Monday        87268\n",
       "2           Saturday        91218\n",
       "3             Sunday        86616\n",
       "4           Thursday        86830\n",
       "5            Tuesday        84974\n",
       "6          Wednesday        85052"
      ]
     },
     "execution_count": 11,
     "metadata": {},
     "output_type": "execute_result"
    }
   ],
   "source": [
    "df_days"
   ]
  },
  {
   "cell_type": "code",
   "execution_count": 12,
   "metadata": {},
   "outputs": [
    {
     "data": {
      "image/png": "[encoded data removed]",
      "text/plain": [
       "<matplotlib.figure.Figure at 0x106f84828>"
      ]
     },
     "metadata": {},
     "output_type": "display_data"
    }
   ],
   "source": [
    "df_days.plot(x='Day_of_week (name)',y='incident_ID',kind='bar')\n",
    "plt.ylabel('EMS Dispatches')\n",
    "plt.title('Dispatches Per Weekday')\n",
    "plt.show()"
   ]
  },
  {
   "cell_type": "markdown",
   "metadata": {},
   "source": [
    "## Plot by grouped hours"
   ]
  },
  {
   "cell_type": "code",
   "execution_count": 13,
   "metadata": {
    "collapsed": true
   },
   "outputs": [],
   "source": [
    "df_hours = df.groupby('Hour (10-23)')[['incident_ID']].count().reset_index()"
   ]
  },
  {
   "cell_type": "code",
   "execution_count": 14,
   "metadata": {},
   "outputs": [
    {
     "data": {
      "text/html": [
       "<div>\n",
       "<style scoped>\n",
       "    .dataframe tbody tr th:only-of-type {\n",
       "        vertical-align: middle;\n",
       "    }\n",
       "\n",
       "    .dataframe tbody tr th {\n",
       "        vertical-align: top;\n",
       "    }\n",
       "\n",
       "    .dataframe thead th {\n",
       "        text-align: right;\n",
       "    }\n",
       "</style>\n",
       "<table border=\"1\" class=\"dataframe\">\n",
       "  <thead>\n",
       "    <tr style=\"text-align: right;\">\n",
       "      <th></th>\n",
       "      <th>Hour (10-23)</th>\n",
       "      <th>incident_ID</th>\n",
       "    </tr>\n",
       "  </thead>\n",
       "  <tbody>\n",
       "    <tr>\n",
       "      <th>0</th>\n",
       "      <td>0</td>\n",
       "      <td>187533</td>\n",
       "    </tr>\n",
       "    <tr>\n",
       "      <th>1</th>\n",
       "      <td>1</td>\n",
       "      <td>426392</td>\n",
       "    </tr>\n",
       "  </tbody>\n",
       "</table>\n",
       "</div>"
      ],
      "text/plain": [
       "   Hour (10-23)  incident_ID\n",
       "0             0       187533\n",
       "1             1       426392"
      ]
     },
     "execution_count": 14,
     "metadata": {},
     "output_type": "execute_result"
    }
   ],
   "source": [
    "df_hours"
   ]
  },
  {
   "cell_type": "code",
   "execution_count": 35,
   "metadata": {
    "collapsed": true
   },
   "outputs": [],
   "source": [
    "df_hours['Hour (0-23)'] = df_hours['Hour (10-23)'].astype(str)"
   ]
  },
  {
   "cell_type": "code",
   "execution_count": 36,
   "metadata": {},
   "outputs": [
    {
     "data": {
      "image/png": "[encoded data removed]",
      "text/plain": [
       "<matplotlib.figure.Figure at 0x10ece69b0>"
      ]
     },
     "metadata": {},
     "output_type": "display_data"
    }
   ],
   "source": [
    "#df_hours.plot(kind='bar')\n",
    "plt.bar(df_hours['Hour (10-23)'].astype(str),df_hours['incident_ID'])\n",
    "plt.xlabel('Hour Blocks')\n",
    "plt.ylabel('EMS Dispatches')\n",
    "plt.title('Dispatches Per Hour-Range')\n",
    "plt.xticks(np.arange(2),('Hours (0-9)','Hours (10-23)'))\n",
    "plt.show()"
   ]
  },
  {
   "cell_type": "markdown",
   "metadata": {
    "collapsed": true
   },
   "source": [
    "## Plot dispatches that result in patient "
   ]
  }
 ],
 "metadata": {
  "kernelspec": {
   "display_name": "Python 3",
   "language": "python",
   "name": "python3"
  },
  "language_info": {
   "codemirror_mode": {
    "name": "ipython",
    "version": 3
   },
   "file_extension": ".py",
   "mimetype": "text/x-python",
   "name": "python",
   "nbconvert_exporter": "python",
   "pygments_lexer": "ipython3",
   "version": "3.6.3"
  }
 },
 "nbformat": 4,
 "nbformat_minor": 2
}

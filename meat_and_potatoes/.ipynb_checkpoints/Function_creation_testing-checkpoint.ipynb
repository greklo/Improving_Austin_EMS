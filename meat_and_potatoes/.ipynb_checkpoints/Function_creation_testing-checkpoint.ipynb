{
 "cells": [
  {
   "cell_type": "code",
   "execution_count": 1,
   "metadata": {
    "collapsed": true
   },
   "outputs": [],
   "source": [
    "import pandas as pd\n",
    "import numpy as np\n",
    "from sklearn.cluster import KMeans\n",
    "from collections import Counter\n",
    "import os\n",
    "\n",
    "\n",
    "# Google Maps Geo-plot API\n",
    "from bokeh.models import (\n",
    "   GMapPlot, GMapOptions, ColumnDataSource, Circle, Range1d, PanTool, WheelZoomTool, Slider, \n",
    "   HoverTool, BoxSelectTool\n",
    " )\n",
    "from bokeh.io import output_file, show, output_notebook, curdoc\n",
    "from bokeh.plotting import figure, output_file\n",
    "from bokeh.models.callbacks import CustomJS\n",
    "\n",
    "\n",
    "import warnings\n",
    "warnings.filterwarnings('ignore')\n",
    "\n",
    "import matplotlib.pyplot as plt\n",
    "%matplotlib inline"
   ]
  },
  {
   "cell_type": "code",
   "execution_count": 2,
   "metadata": {
    "collapsed": true
   },
   "outputs": [],
   "source": [
    "df = pd.read_csv('data/updated_merged_df')"
   ]
  },
  {
   "cell_type": "code",
   "execution_count": null,
   "metadata": {
    "collapsed": true
   },
   "outputs": [],
   "source": [
    "# df[df['FIPS_geoID'] == 48453001118]\n",
    "#df.groupby('FIPS_geoID')['priority'].count().reset_index(name = 'count').sort_values('count', ascending = False)"
   ]
  },
  {
   "cell_type": "code",
   "execution_count": null,
   "metadata": {
    "collapsed": true
   },
   "outputs": [],
   "source": [
    "#df.columns"
   ]
  },
  {
   "cell_type": "code",
   "execution_count": null,
   "metadata": {
    "collapsed": true
   },
   "outputs": [],
   "source": [
    "#df[df['Day_of_week (name)']=='Saturday'].count()"
   ]
  },
  {
   "cell_type": "code",
   "execution_count": null,
   "metadata": {
    "collapsed": true
   },
   "outputs": [],
   "source": []
  },
  {
   "cell_type": "markdown",
   "metadata": {},
   "source": [
    "## Create a function that takes a dataframe and adds an additional column (Normalized count for that particular FIPS_geoID. This function will be used within the filter_df function (below) to ensure the count represents the time of day and day of week."
   ]
  },
  {
   "cell_type": "code",
   "execution_count": 3,
   "metadata": {
    "collapsed": true
   },
   "outputs": [],
   "source": [
    "def create_size_column(data):\n",
    "    df_fips = data.groupby('FIPS_geoID')[['priority']].count().reset_index()\n",
    "    df2 = pd.merge(data,df_fips,how='left',on='FIPS_geoID')\n",
    "    df2 = df2.rename(columns={'priority_y':'Count_per_FIPS'})\n",
    "    df2['Normalized_count'] = df2['Count_per_FIPS']/df2['Count_per_FIPS'].max().astype(np.float64)\n",
    "    sol = []\n",
    "    for val in df2['Normalized_count']:\n",
    "        if val <= .11:\n",
    "            sol.append(2)\n",
    "        else:\n",
    "            sol.append(val*28)\n",
    "    df2['size'] = sol\n",
    "    return df2"
   ]
  },
  {
   "cell_type": "code",
   "execution_count": null,
   "metadata": {
    "collapsed": true
   },
   "outputs": [],
   "source": [
    "#create_size_column(df)"
   ]
  },
  {
   "cell_type": "code",
   "execution_count": null,
   "metadata": {
    "collapsed": true
   },
   "outputs": [],
   "source": []
  },
  {
   "cell_type": "markdown",
   "metadata": {},
   "source": [
    "## Create a function that takes a DF and returns a new DF with four fields (Day of week, Hour of Day, Lat, Long, and size column)\n",
    "\n",
    "## Arguments will be day (string) and hour (int)"
   ]
  },
  {
   "cell_type": "code",
   "execution_count": 4,
   "metadata": {
    "collapsed": true
   },
   "outputs": [],
   "source": [
    "def filter_df(data,day,hour):\n",
    "    \"\"\"This function takes a dataframe and returns a data frame with only: \n",
    "       - Day of week\n",
    "       - Hour of day\n",
    "       - Lat\n",
    "       - Long\n",
    "       - Count_per_FIPS\n",
    "       - Size column\n",
    "       \n",
    "       Inputs:\n",
    "       - Dataframe\n",
    "       - Day in string format\n",
    "       - Hour in int format\n",
    "       \n",
    "       Output: A dataframe of: \n",
    "       - Lats\n",
    "       - Longs \n",
    "       - Filtered based on the hour and the day put into the function\n",
    "       - Count of Lats, Longs\n",
    "       - Size column for plotting\n",
    "       \"\"\"\n",
    "    # Filter columns\n",
    "    col_lst = ['Day_of_week (name)','Hour','Lat','Long','FIPS_geoID','priority']\n",
    "    lst = []\n",
    "    for columns in data.columns:\n",
    "        if columns in col_lst:\n",
    "            lst.append(columns)\n",
    "    \n",
    "    new_df = data[lst]\n",
    "    \n",
    "    # Filter rows by Day value\n",
    "    new_df = new_df[new_df['Day_of_week (name)']==day]\n",
    "    #print(new_df['Day_of_week (name)'].nunique())\n",
    "    \n",
    "    #Filter rows by Hour value\n",
    "    new_df = new_df[new_df['Hour']==hour]\n",
    "    #print(new_df['Hour'].nunique())\n",
    "    \n",
    "    # Drop NaN rows\n",
    "    new_df = new_df.dropna()\n",
    "    \n",
    "    # Apply 'create_size_column' function that will count incident occurences for filtered df\n",
    "    new_df = create_size_column(new_df)\n",
    "    \n",
    "    return new_df[['FIPS_geoID','Lat','Long','Count_per_FIPS','size']]"
   ]
  },
  {
   "cell_type": "code",
   "execution_count": null,
   "metadata": {
    "collapsed": true
   },
   "outputs": [],
   "source": [
    "#np.array(df[['Lat','Long']])"
   ]
  },
  {
   "cell_type": "code",
   "execution_count": null,
   "metadata": {
    "collapsed": true
   },
   "outputs": [],
   "source": [
    "df_test = filter_df(df,'Monday',5)\n",
    "type(df_test)"
   ]
  },
  {
   "cell_type": "code",
   "execution_count": null,
   "metadata": {
    "collapsed": true
   },
   "outputs": [],
   "source": [
    "# create a dataframe with only unique FIPS_geoID and a count\n",
    "#df_group = df_test.groupby('FIPS_geoID')[['Lat','Long','Count_per_FIPS','size']]"
   ]
  },
  {
   "cell_type": "code",
   "execution_count": null,
   "metadata": {
    "collapsed": true
   },
   "outputs": [],
   "source": []
  },
  {
   "cell_type": "code",
   "execution_count": null,
   "metadata": {
    "collapsed": true
   },
   "outputs": [],
   "source": [
    "#df_grouped = df_test.groupby(['FIPS_geoID','Lat','Long','size']\n",
    "df_grouped = df_test.groupby(['FIPS_geoID','Lat','Long','size'])['Count_per_FIPS'].count() \\\n",
    "                    .reset_index(name = 'count').sort_values('count')\n",
    "# df_test[(df_test.Lat == 30.426141) & (df_test.Long == -97.769773)]"
   ]
  },
  {
   "cell_type": "code",
   "execution_count": null,
   "metadata": {
    "collapsed": true
   },
   "outputs": [],
   "source": [
    "df_grouped.shape"
   ]
  },
  {
   "cell_type": "markdown",
   "metadata": {
    "collapsed": true
   },
   "source": [
    "## Creat a function that outputs a Geomap with all the centroids and lat, longs.\n",
    "\n",
    "## I need to figure out a way to adjust centroid size depending on how many incident points fall within a certain radius of it. "
   ]
  },
  {
   "cell_type": "code",
   "execution_count": 19,
   "metadata": {
    "collapsed": true
   },
   "outputs": [],
   "source": [
    "def plot_df(data,day,hour,num_centroids):\n",
    "    \"\"\"This function takes a dataframe and plots the centroids vs the Lats, Longs of the incident data-points\n",
    "       \n",
    "       Inputs:\n",
    "       - Dataframe\n",
    "       - Day in string format\n",
    "       - Hour in int format\n",
    "       - Number of centroids wanted\n",
    "       \n",
    "       Output: A plot of lats and longs, overlayed on a map of Austin, \n",
    "               filtered based on the hour and the day put into the function\n",
    "    \"\"\"\n",
    "    \n",
    "    # Using the function created before, applying the proper format to the dataframe for modeling\n",
    "    new_df = filter_df(data,day,hour)\n",
    "    \n",
    "    \n",
    "    # Create a dataframe that has one count per FIPS_geoID\n",
    "    # This will be used for the hover tool so that only one total count is shown when one hovers\n",
    "    # Includes Lat, Long, count, size\n",
    "    df_count = new_df.groupby(['FIPS_geoID','Lat','Long','size'])['Count_per_FIPS'].count() \\\n",
    "                     .reset_index(name = 'count').sort_values('count')\n",
    "    \n",
    "    \n",
    "    \n",
    "    # Modeling the data with KMeans\n",
    "    X = np.array(new_df[['Lat','Long']])\n",
    "    model = KMeans(n_init=100,n_clusters=num_centroids,max_iter=400,tol=1e-8)\n",
    "    model.fit(X)\n",
    "    centroids = model.cluster_centers_\n",
    "    \n",
    "    # Defining the Lat,Long to pass into Google maps API \n",
    "    cent_lats = list(centroids[:,0])\n",
    "    cent_longs = list(centroids[:,1])\n",
    "    \n",
    "    # Actual Lat,Long of incidents\n",
    "    incident_lats = list(df_count['Lat'])\n",
    "    incident_longs = list(df_count['Long'])\n",
    "    \n",
    "    # Normalized FIPS count to alter plot point size based on count of incidents\n",
    "    #df_size = new_df['size'].values\n",
    "    \n",
    "    \n",
    "    \n",
    "    \n",
    "    # Geoplotting!!!!!!!!\n",
    "    map_options = GMapOptions(lat=30.2672, lng=-97.7431, map_type=\"roadmap\", zoom=11)\n",
    "\n",
    "    plot = GMapPlot(\n",
    "    x_range=Range1d(), y_range=Range1d(), map_options=map_options)\n",
    "    plot.title.text = \"Austin (Day: {}, Hour: {})\".format(day,hour)\n",
    "\n",
    "    # For GMaps to function, Google requires you obtain and enable an API key:\n",
    "    #\n",
    "    # https://developers.google.com/maps/documentation/javascript/get-api-key\n",
    "    #\n",
    "    # Replace the value below with your personal API key:\n",
    "    plot.api_key = os.environ['GOOGLE_API_KEY']\n",
    "    \n",
    "    \n",
    "    completed_source = ColumnDataSource( data=dict(\n",
    "    lat=cent_lats,\n",
    "    lon=cent_longs,))\n",
    "    completed_dots = Circle(x=\"lon\", y=\"lat\", size=55, fill_color=\"blue\", fill_alpha=0.2, line_color=None)\n",
    "    plot.add_glyph(completed_source, completed_dots)\n",
    "    \n",
    "    completed_source = ColumnDataSource( data=dict(\n",
    "    lat=incident_lats,\n",
    "    lon=incident_longs,\n",
    "    size=df_count['size'].values,\n",
    "    count=df_count['count'].values))\n",
    "    \n",
    "    \n",
    "    # Size of lat,long plots will be determind from the normalized count column\n",
    "    # If size < .11 then the plot will be size=2 ... otherwise it will multiply by 28\n",
    "  \n",
    "    completed_dots = Circle(x=\"lon\", y=\"lat\", size=\"size\", fill_color=\"red\", fill_alpha=0.8, line_color=None)\n",
    "    plot.add_glyph(completed_source, completed_dots)\n",
    "    \n",
    "    \n",
    "    # Hover tool implementation\n",
    "    hover = HoverTool(tooltips=[\n",
    "                     (\"Incident Count\", \"@count\")])\n",
    "   \n",
    "    \n",
    "   \n",
    "    plot.add_tools(PanTool(), WheelZoomTool(), BoxSelectTool(),hover)\n",
    "    show(plot)\n",
    "    "
   ]
  },
  {
   "cell_type": "markdown",
   "metadata": {},
   "source": [
    "## Plot below"
   ]
  },
  {
   "cell_type": "code",
   "execution_count": 20,
   "metadata": {},
   "outputs": [],
   "source": [
    "plot_df(df,'Friday',22,1)"
   ]
  },
  {
   "cell_type": "code",
   "execution_count": null,
   "metadata": {
    "collapsed": true
   },
   "outputs": [],
   "source": []
  },
  {
   "cell_type": "markdown",
   "metadata": {
    "collapsed": true
   },
   "source": [
    "## Slider tool implementation"
   ]
  },
  {
   "cell_type": "code",
   "execution_count": null,
   "metadata": {
    "collapsed": true
   },
   "outputs": [],
   "source": [
    "def final_plot(data):\n",
    "    \n",
    "#   The first thing this function does is open a webpage with default values entered below\n",
    "    plot_df(data,'Monday',5,10)\n",
    "    \n",
    "    \n",
    "    \n",
    "#   Trying to create three sliders that allow a user to modify Day, Hour, and Centroid count from browser\n",
    "#   This interface must then update the plot accordingly using callback\n",
    "\n",
    "    sourceupper = completed_source\n",
    "    p.line('x', 'y', source = sourceupper, line_color = \"navy\", line_width = 4)\n",
    "    \n",
    "\n",
    "    slider_day = Slider(start=0.1, end=4, value=1, step=.1, title=\"Day of Week\",callback=callback1)\n",
    "    slider_hour = Slider(start=0, end=23, value=1, step=1, title=\"Hour of Day\",callback=callback2)\n",
    "    slider_centroid = Slider(start=2, end=19, value=10, step=1, title=\"Number of Centroids\",callback=callback3)\n",
    "    \n",
    "    callback1 = CustomJS(args=dict(source=sourceupper), code=\"\"\"\n",
    "                var data = source.get('data');\n",
    "                var f = cb_obj.get('value');\n",
    "                x = data['x'];\n",
    "                y = data['y'];\n",
    "                y[0] = f *10;\n",
    "                y[1] = f *10;\n",
    "                source.trigger('change');\n",
    "            \"\"\")\n",
    "    callback2 = CustomJS(args=dict(source=sourceupper), code=\"\"\"\n",
    "                var data = source.get('data');\n",
    "                var f = cb_obj.get('value');\n",
    "                x = data['x'];\n",
    "                y = data['y'];\n",
    "                x[1] = f\n",
    "\n",
    "                source.trigger('change');\n",
    "            \"\"\")\n",
    "    callback3 = CustomJS(args=dict(source=sourceupper), code=\"\"\"\n",
    "                var data = source.get('data');\n",
    "                var f = cb_obj.get('value');\n",
    "                x = data['x'];\n",
    "                y = data['y'];\n",
    "                x[2] = parseInt(f) + 10\n",
    "                console.log(x[2])\n",
    "                source.trigger('change');\n",
    "            \"\"\")\n",
    "    \n",
    "    \n",
    "#     def data_changed(attr, old, new):\n",
    "        \n",
    "#      # update sliders here\n",
    "#         slider1.value = # whatever\n",
    "#         source.on_change('data', data_changed)\n",
    "#     def slider1_changed(attr, old, new):\n",
    "#         source.data = # set new data or modify data\n",
    "#         slider1.on_change('value', slider1_changed)\n",
    "    \n",
    "    \n",
    "    \n",
    "    \n",
    "    \n",
    "    slider.js_on_change('value', callback)\n",
    "\n",
    "    layout = column(slider, plot)\n",
    "\n",
    "    show(layout)\n",
    "    \n",
    "    "
   ]
  },
  {
   "cell_type": "markdown",
   "metadata": {},
   "source": [
    "## Bunch of testing below nothing to see here"
   ]
  },
  {
   "cell_type": "code",
   "execution_count": null,
   "metadata": {
    "collapsed": true
   },
   "outputs": [],
   "source": [
    "#plt.scatter(np.array(df['Lat']),np.array(df['Long']))"
   ]
  },
  {
   "cell_type": "code",
   "execution_count": null,
   "metadata": {
    "collapsed": true
   },
   "outputs": [],
   "source": [
    "#type(df[\"Year\"].values[0])"
   ]
  },
  {
   "cell_type": "code",
   "execution_count": null,
   "metadata": {
    "collapsed": true
   },
   "outputs": [],
   "source": [
    "#df[df['Year']==2012 & df['Day_of_week (name)']=='Monday' & df['Hour']==2]"
   ]
  },
  {
   "cell_type": "code",
   "execution_count": null,
   "metadata": {
    "collapsed": true
   },
   "outputs": [],
   "source": []
  },
  {
   "cell_type": "code",
   "execution_count": null,
   "metadata": {
    "collapsed": true
   },
   "outputs": [],
   "source": [
    "df_test.columns"
   ]
  },
  {
   "cell_type": "code",
   "execution_count": null,
   "metadata": {
    "collapsed": true
   },
   "outputs": [],
   "source": [
    "#df_test['normalize_count']=(df['Count_per_FIPS']-df['Count_per_FIPS'].mean())/df['Count_per_FIPS'].std()"
   ]
  },
  {
   "cell_type": "code",
   "execution_count": null,
   "metadata": {
    "collapsed": true
   },
   "outputs": [],
   "source": [
    "#df_test['normalize_count'].max()"
   ]
  },
  {
   "cell_type": "code",
   "execution_count": null,
   "metadata": {
    "collapsed": true
   },
   "outputs": [],
   "source": []
  },
  {
   "cell_type": "code",
   "execution_count": null,
   "metadata": {
    "collapsed": true
   },
   "outputs": [],
   "source": []
  },
  {
   "cell_type": "code",
   "execution_count": null,
   "metadata": {
    "collapsed": true
   },
   "outputs": [],
   "source": []
  },
  {
   "cell_type": "code",
   "execution_count": null,
   "metadata": {
    "collapsed": true
   },
   "outputs": [],
   "source": [
    "df_test['Normalized_count'] = df_test['Count_per_FIPS']/df['Count_per_FIPS'].max().astype(np.float64)"
   ]
  },
  {
   "cell_type": "code",
   "execution_count": null,
   "metadata": {
    "collapsed": true
   },
   "outputs": [],
   "source": [
    "df_test['Normalized_count'].nunique()"
   ]
  },
  {
   "cell_type": "code",
   "execution_count": null,
   "metadata": {
    "collapsed": true
   },
   "outputs": [],
   "source": []
  }
 ],
 "metadata": {
  "kernelspec": {
   "display_name": "Python 3",
   "language": "python",
   "name": "python3"
  },
  "language_info": {
   "codemirror_mode": {
    "name": "ipython",
    "version": 3
   },
   "file_extension": ".py",
   "mimetype": "text/x-python",
   "name": "python",
   "nbconvert_exporter": "python",
   "pygments_lexer": "ipython3",
   "version": "3.6.3"
  }
 },
 "nbformat": 4,
 "nbformat_minor": 2
}

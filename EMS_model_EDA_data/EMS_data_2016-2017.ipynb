{
 "cells": [
  {
   "cell_type": "code",
   "execution_count": 1,
   "metadata": {},
   "outputs": [
    {
     "name": "stderr",
     "output_type": "stream",
     "text": [
      "/Users/gregoryklose/anaconda3/lib/python3.6/site-packages/sklearn/cross_validation.py:41: DeprecationWarning: This module was deprecated in version 0.18 in favor of the model_selection module into which all the refactored classes and functions are moved. Also note that the interface of the new CV iterators are different from that of this module. This module will be removed in 0.20.\n",
      "  \"This module will be removed in 0.20.\", DeprecationWarning)\n"
     ]
    }
   ],
   "source": [
    "import pandas as pd\n",
    "import numpy as np\n",
    "from sklearn.cross_validation import train_test_split\n",
    "from sklearn.linear_model import LinearRegression\n",
    "import matplotlib.pyplot as plt\n",
    "import seaborn as sns\n",
    "%matplotlib inline\n",
    "sns.set(color_codes = True)\n",
    "\n",
    "import warnings\n",
    "warnings.filterwarnings('ignore')"
   ]
  },
  {
   "cell_type": "code",
   "execution_count": null,
   "metadata": {
    "collapsed": true
   },
   "outputs": [],
   "source": []
  },
  {
   "cell_type": "code",
   "execution_count": 2,
   "metadata": {
    "collapsed": true
   },
   "outputs": [],
   "source": [
    "df_ems = pd.read_excel('Data/Deidentified Hackathon Data 2017-12-04.xlsx')"
   ]
  },
  {
   "cell_type": "code",
   "execution_count": 3,
   "metadata": {},
   "outputs": [
    {
     "data": {
      "text/plain": [
       "Index(['incident_ID', 'incident_date', 'priority', 'zone', 'time_phone_pickup',\n",
       "       'time_unit_arrived', 'time_incident_closed', 'disposition',\n",
       "       'council_district', 'census_state_code', 'census_county_code',\n",
       "       'census_tract', 'census_block', 'census_geoID', 'census_block_name'],\n",
       "      dtype='object')"
      ]
     },
     "execution_count": 3,
     "metadata": {},
     "output_type": "execute_result"
    }
   ],
   "source": [
    "df_ems.columns"
   ]
  },
  {
   "cell_type": "markdown",
   "metadata": {},
   "source": [
    "## As seen below an overwhelming majority of incidents are documented in City of Austin, therefore, I will focus on Austin (and make a histogram!)"
   ]
  },
  {
   "cell_type": "code",
   "execution_count": null,
   "metadata": {
    "collapsed": true
   },
   "outputs": [],
   "source": [
    "pd.value_counts(df_ems['zone'].values, sort=True)"
   ]
  },
  {
   "cell_type": "code",
   "execution_count": 4,
   "metadata": {},
   "outputs": [
    {
     "data": {
      "image/png": "[encoded data removed]",
      "text/plain": [
       "<matplotlib.figure.Figure at 0x1177c9cc0>"
      ]
     },
     "metadata": {},
     "output_type": "display_data"
    }
   ],
   "source": [
    "plt.hist(df_ems['zone'].values)\n",
    "plt.title('City of Austin Incidents vs Travis County Incidents',fontsize=13)\n",
    "plt.xlabel('Area')\n",
    "plt.ylabel('Incident Count')\n",
    "plt.show()"
   ]
  },
  {
   "cell_type": "markdown",
   "metadata": {},
   "source": [
    "## Are EMS calls increasing Year-to-Year?"
   ]
  },
  {
   "cell_type": "code",
   "execution_count": 5,
   "metadata": {
    "collapsed": true
   },
   "outputs": [],
   "source": [
    "df_ems['Year'] = pd.DatetimeIndex(df_ems['time_phone_pickup']).year"
   ]
  },
  {
   "cell_type": "code",
   "execution_count": null,
   "metadata": {
    "collapsed": true
   },
   "outputs": [],
   "source": [
    "# Yes they are\n",
    "pd.value_counts(df_ems['Year'].values, sort=False)"
   ]
  },
  {
   "cell_type": "code",
   "execution_count": null,
   "metadata": {
    "collapsed": true
   },
   "outputs": [],
   "source": []
  },
  {
   "cell_type": "code",
   "execution_count": 6,
   "metadata": {},
   "outputs": [
    {
     "data": {
      "text/plain": [
       "(613926, 16)"
      ]
     },
     "execution_count": 6,
     "metadata": {},
     "output_type": "execute_result"
    }
   ],
   "source": [
    "#remove zones that are not City of Austin\n",
    "df2 = df_ems[df_ems['zone'] == 'City of Austin']\n",
    "df2.shape\n"
   ]
  },
  {
   "cell_type": "code",
   "execution_count": null,
   "metadata": {
    "collapsed": true
   },
   "outputs": [],
   "source": [
    "df2['zone'].nunique()\n"
   ]
  },
  {
   "cell_type": "code",
   "execution_count": null,
   "metadata": {
    "collapsed": true
   },
   "outputs": [],
   "source": [
    "#df_ems.head()\n",
    "#fema data for ambulance locations\n",
    "#ark GIS"
   ]
  },
  {
   "cell_type": "code",
   "execution_count": null,
   "metadata": {
    "collapsed": true
   },
   "outputs": [],
   "source": [
    "#df_ems_loc = pd.read_csv('Data/Emergency_Medical_Service_EMS_Stations.csv',encoding='latin')"
   ]
  },
  {
   "cell_type": "code",
   "execution_count": null,
   "metadata": {
    "collapsed": true
   },
   "outputs": [],
   "source": [
    "#df_ems_loc.shape"
   ]
  },
  {
   "cell_type": "code",
   "execution_count": null,
   "metadata": {
    "collapsed": true
   },
   "outputs": [],
   "source": []
  },
  {
   "cell_type": "markdown",
   "metadata": {
    "collapsed": true
   },
   "source": [
    "## EDA"
   ]
  },
  {
   "cell_type": "code",
   "execution_count": null,
   "metadata": {
    "collapsed": true
   },
   "outputs": [],
   "source": [
    "#df2[df2['Year'] ==2017].count()"
   ]
  },
  {
   "cell_type": "markdown",
   "metadata": {
    "collapsed": true
   },
   "source": [
    "## Time_phone_pickup data prior to FY2016 was documented differently. I don't think I will be using the response call time for my analysis so that shouldn't be an issue"
   ]
  },
  {
   "cell_type": "code",
   "execution_count": null,
   "metadata": {
    "collapsed": true
   },
   "outputs": [],
   "source": []
  },
  {
   "cell_type": "code",
   "execution_count": null,
   "metadata": {
    "collapsed": true
   },
   "outputs": [],
   "source": [
    "df_ems.head()"
   ]
  },
  {
   "cell_type": "markdown",
   "metadata": {},
   "source": [
    "## Create columns for day-of-week (both numeric and string) and month-of-year"
   ]
  },
  {
   "cell_type": "code",
   "execution_count": 7,
   "metadata": {
    "collapsed": true
   },
   "outputs": [],
   "source": [
    "df2['Month'] = pd.DatetimeIndex(df2['time_phone_pickup']).month\n",
    "df2['Day'] = pd.DatetimeIndex(df2['time_phone_pickup']).day\n",
    "df2['Day_of_week (int)'] = pd.DatetimeIndex(df2['time_phone_pickup']).weekday\n",
    "df2['Day_of_week (name)'] = pd.DatetimeIndex(df2['time_phone_pickup']).weekday_name\n"
   ]
  },
  {
   "cell_type": "code",
   "execution_count": 8,
   "metadata": {},
   "outputs": [
    {
     "data": {
      "text/plain": [
       "array(['Saturday', 'Sunday', 'Monday', 'Tuesday', 'Wednesday', 'Thursday',\n",
       "       'Friday'], dtype=object)"
      ]
     },
     "execution_count": 8,
     "metadata": {},
     "output_type": "execute_result"
    }
   ],
   "source": [
    "df2['Day_of_week (name)'].unique()"
   ]
  },
  {
   "cell_type": "code",
   "execution_count": null,
   "metadata": {
    "collapsed": true
   },
   "outputs": [],
   "source": [
    "df2.head()"
   ]
  },
  {
   "cell_type": "markdown",
   "metadata": {},
   "source": [
    "## Because all zones and states are the same, I will drop both columns to reduce noise"
   ]
  },
  {
   "cell_type": "code",
   "execution_count": 9,
   "metadata": {
    "collapsed": true
   },
   "outputs": [],
   "source": [
    "df2 = df2.drop('zone',axis=1)\n",
    "df2 = df2.drop('census_state_code',axis=1)"
   ]
  },
  {
   "cell_type": "code",
   "execution_count": null,
   "metadata": {
    "collapsed": true
   },
   "outputs": [],
   "source": [
    "#roughly 48k rows have null values for 'time_unit_arrived' column... I'm not exactly sure what to do with that\n",
    "df2.isnull().sum()"
   ]
  },
  {
   "cell_type": "markdown",
   "metadata": {},
   "source": [
    "## Find out on what day of the week most incidents occur"
   ]
  },
  {
   "cell_type": "code",
   "execution_count": null,
   "metadata": {
    "collapsed": true
   },
   "outputs": [],
   "source": [
    "#This distribution is surprisingly uniform\n",
    "pd.value_counts(df2['Day_of_week (name)'].values, sort=True)"
   ]
  },
  {
   "cell_type": "markdown",
   "metadata": {},
   "source": [
    "## Break of time of day (hours) into ranges to see if a specific time-range has more representation"
   ]
  },
  {
   "cell_type": "code",
   "execution_count": 10,
   "metadata": {
    "collapsed": true
   },
   "outputs": [],
   "source": [
    "df2['Hour'] = pd.DatetimeIndex(df2['time_phone_pickup']).hour"
   ]
  },
  {
   "cell_type": "code",
   "execution_count": 11,
   "metadata": {},
   "outputs": [
    {
     "data": {
      "text/plain": [
       "24"
      ]
     },
     "execution_count": 11,
     "metadata": {},
     "output_type": "execute_result"
    }
   ],
   "source": [
    "df2['Hour'].nunique()"
   ]
  },
  {
   "cell_type": "code",
   "execution_count": null,
   "metadata": {
    "collapsed": true
   },
   "outputs": [],
   "source": [
    "df2.head()"
   ]
  },
  {
   "cell_type": "code",
   "execution_count": 12,
   "metadata": {
    "collapsed": true
   },
   "outputs": [],
   "source": [
    "\n",
    "df2['Hour (10-23)'] = df2['Hour'].between(10,23).astype(int)\n",
    "df2['Hour (0-9)'] = df2['Hour'].between(0,9).astype(int)"
   ]
  },
  {
   "cell_type": "code",
   "execution_count": 13,
   "metadata": {},
   "outputs": [
    {
     "data": {
      "text/plain": [
       "array([0, 1])"
      ]
     },
     "execution_count": 13,
     "metadata": {},
     "output_type": "execute_result"
    }
   ],
   "source": [
    "df2['Hour (0-9)'].unique()"
   ]
  },
  {
   "cell_type": "markdown",
   "metadata": {},
   "source": [
    "## EDA to see where incidents occur most based on columns"
   ]
  },
  {
   "cell_type": "code",
   "execution_count": null,
   "metadata": {
    "collapsed": true
   },
   "outputs": [],
   "source": [
    "#This is interesting, it seems hours 10-20 have the highest amount of incidents. \n",
    "#I will do this with the use of dummy variables\n",
    "pd.value_counts(df2['Hour'].values, sort=True)"
   ]
  },
  {
   "cell_type": "code",
   "execution_count": null,
   "metadata": {
    "collapsed": true
   },
   "outputs": [],
   "source": [
    "pd.value_counts(df2['Hour (0-9)'].values, sort=True)"
   ]
  },
  {
   "cell_type": "code",
   "execution_count": null,
   "metadata": {
    "collapsed": true
   },
   "outputs": [],
   "source": [
    "# Quick check to see if the values match up (they do)\n",
    "# Roughly 2/3 of the incidents occur between the hours of 10-23\n",
    "pd.value_counts(df2['Hour (10-23)'].values, sort=True)"
   ]
  },
  {
   "cell_type": "code",
   "execution_count": null,
   "metadata": {
    "collapsed": true
   },
   "outputs": [],
   "source": [
    "pd.value_counts(df2['census_tract'].values, sort=True)"
   ]
  },
  {
   "cell_type": "code",
   "execution_count": null,
   "metadata": {
    "collapsed": true
   },
   "outputs": [],
   "source": [
    "pd.value_counts(df2['council_district'].values, sort=True)"
   ]
  },
  {
   "cell_type": "code",
   "execution_count": null,
   "metadata": {
    "collapsed": true
   },
   "outputs": [],
   "source": [
    "# These are the 5 top blocks where incidents occur\n",
    "pd.value_counts(df2['census_block_name'].values, sort=True).head()                                                 "
   ]
  },
  {
   "cell_type": "code",
   "execution_count": null,
   "metadata": {
    "collapsed": true
   },
   "outputs": [],
   "source": [
    "#Finaly some unbalnaced data! almost all incidents are occuring in county code 453\n",
    "#I may focus only on county 453 because the data is so unbalanced \n",
    "pd.value_counts(df2['census_county_code'].values, sort=True)"
   ]
  },
  {
   "cell_type": "code",
   "execution_count": null,
   "metadata": {
    "collapsed": true
   },
   "outputs": [],
   "source": []
  },
  {
   "cell_type": "code",
   "execution_count": null,
   "metadata": {
    "collapsed": true
   },
   "outputs": [],
   "source": [
    "# It seems there's one geoID that has significanlty more incidents than the others\n",
    "# I need to do some research to figure out exactly what a geoID signifies\n",
    "pd.value_counts(df2['census_geoID'].values, sort=True)"
   ]
  },
  {
   "cell_type": "markdown",
   "metadata": {},
   "source": [
    "## In order to use the geoID information I need to convert it to latitude and longitude columns. To effictively do that, I need to strip each value in the geoID column to only its first 11 characters."
   ]
  },
  {
   "cell_type": "code",
   "execution_count": 14,
   "metadata": {
    "collapsed": true
   },
   "outputs": [],
   "source": [
    "df3 = df2"
   ]
  },
  {
   "cell_type": "code",
   "execution_count": 15,
   "metadata": {
    "collapsed": true
   },
   "outputs": [],
   "source": [
    "df3['FIPS_geoID'] = df3['census_geoID'].astype(str).str[0:11].astype(int)\n",
    "#df3['FIPS_geoID'] = df3.apply(lambda x: x['census_geoID'][:x[12]], axis=1)    "
   ]
  },
  {
   "cell_type": "markdown",
   "metadata": {},
   "source": [
    "## Re-arrange columns"
   ]
  },
  {
   "cell_type": "code",
   "execution_count": null,
   "metadata": {
    "collapsed": true
   },
   "outputs": [],
   "source": [
    "df3.columns"
   ]
  },
  {
   "cell_type": "code",
   "execution_count": 16,
   "metadata": {
    "collapsed": true
   },
   "outputs": [],
   "source": [
    "df3 = df3[['incident_date', 'priority', 'time_phone_pickup',\n",
    "       'disposition','council_district', 'census_county_code', 'census_tract',\n",
    "       'census_block', 'census_geoID','FIPS_geoID', 'census_block_name', 'Year', 'Month',\n",
    "       'Day', 'Day_of_week (int)', 'Day_of_week (name)', 'Hour',\n",
    "       'Hour (10-23)', 'Hour (0-9)','incident_ID','time_incident_closed','time_unit_arrived']]"
   ]
  },
  {
   "cell_type": "code",
   "execution_count": 17,
   "metadata": {},
   "outputs": [
    {
     "data": {
      "text/plain": [
       "215"
      ]
     },
     "execution_count": 17,
     "metadata": {},
     "output_type": "execute_result"
    }
   ],
   "source": [
    "df3['FIPS_geoID'].nunique()"
   ]
  },
  {
   "cell_type": "code",
   "execution_count": null,
   "metadata": {
    "collapsed": true
   },
   "outputs": [],
   "source": [
    "df3.head()"
   ]
  },
  {
   "cell_type": "code",
   "execution_count": null,
   "metadata": {
    "collapsed": true
   },
   "outputs": [],
   "source": []
  },
  {
   "cell_type": "code",
   "execution_count": null,
   "metadata": {
    "collapsed": true
   },
   "outputs": [],
   "source": []
  },
  {
   "cell_type": "code",
   "execution_count": null,
   "metadata": {
    "collapsed": true
   },
   "outputs": [],
   "source": []
  },
  {
   "cell_type": "code",
   "execution_count": 18,
   "metadata": {
    "collapsed": true
   },
   "outputs": [],
   "source": [
    "df_geo2_lat_long = pd.read_csv('data/geo_merge_data.csv')"
   ]
  },
  {
   "cell_type": "code",
   "execution_count": 19,
   "metadata": {},
   "outputs": [
    {
     "data": {
      "text/plain": [
       "Index(['Unnamed: 0', 'Unnamed: 0.1', 'Location', 'Arthritis', 'Cancer_x',\n",
       "       'Diabetes_x', 'Cholesterol_x', 'Obese_x', 'HBP_x', 'Routine_x',\n",
       "       'NoInsurance_x', 'ElderlyPoverty_x', 'ElderlyAlone_x',\n",
       "       'FemaleServices_x', 'MaleServices_x', 'Cancer_y', 'Diabetes_y',\n",
       "       'Cholesterol_y', 'Obese_y', 'HBP_y', 'Routine_y', 'NoInsurance_y',\n",
       "       'ElderlyPoverty_y', 'ElderlyAlone_y', 'FemaleServices_y',\n",
       "       'MaleServices_y', 'NoVehicle', 'INTPTLAT10', 'INTPTLON10', 'GEOID10',\n",
       "       'Latitude', 'Longitude'],\n",
       "      dtype='object')"
      ]
     },
     "execution_count": 19,
     "metadata": {},
     "output_type": "execute_result"
    }
   ],
   "source": [
    "df_geo2_lat_long.columns"
   ]
  },
  {
   "cell_type": "code",
   "execution_count": 20,
   "metadata": {
    "collapsed": true
   },
   "outputs": [],
   "source": [
    "df_geo2_lat_long = df_geo2_lat_long.filter(['Location','Latitude','Longitude'], axis=1)"
   ]
  },
  {
   "cell_type": "code",
   "execution_count": 21,
   "metadata": {
    "collapsed": true
   },
   "outputs": [],
   "source": [
    "df_geo2_lat_long = df_geo2_lat_long.rename(columns={'Location': 'FIPS_geoID'})"
   ]
  },
  {
   "cell_type": "code",
   "execution_count": null,
   "metadata": {
    "collapsed": true
   },
   "outputs": [],
   "source": [
    "df_geo2_lat_long.head()"
   ]
  },
  {
   "cell_type": "markdown",
   "metadata": {},
   "source": [
    "## Merge both dataframes on FIPS ID. Most ID's have a corresponding lat,long but roughly 30 will have null values"
   ]
  },
  {
   "cell_type": "code",
   "execution_count": 22,
   "metadata": {
    "collapsed": true
   },
   "outputs": [],
   "source": [
    "df_merged = pd.merge(df3, df_geo2_lat_long, on=\"FIPS_geoID\",how='left')"
   ]
  },
  {
   "cell_type": "code",
   "execution_count": 23,
   "metadata": {},
   "outputs": [
    {
     "data": {
      "text/plain": [
       "(613926, 24)"
      ]
     },
     "execution_count": 23,
     "metadata": {},
     "output_type": "execute_result"
    }
   ],
   "source": [
    "df_merged.shape"
   ]
  },
  {
   "cell_type": "markdown",
   "metadata": {},
   "source": [
    "## After the merge, roughly 35k rows don't have a FIPS geoID that corresponds to a lat, long. I'm going to explore that data to see if it falls in a particular area. If very few incidents occur in that area I won't worry about the missing values."
   ]
  },
  {
   "cell_type": "code",
   "execution_count": null,
   "metadata": {
    "collapsed": true
   },
   "outputs": [],
   "source": [
    "df_merged.isnull().sum()"
   ]
  },
  {
   "cell_type": "code",
   "execution_count": 24,
   "metadata": {},
   "outputs": [
    {
     "data": {
      "text/plain": [
       "dtype('float64')"
      ]
     },
     "execution_count": 24,
     "metadata": {},
     "output_type": "execute_result"
    }
   ],
   "source": [
    "df_merged['Latitude'].dtype\n",
    "#.isnull().sum()"
   ]
  },
  {
   "cell_type": "code",
   "execution_count": 25,
   "metadata": {},
   "outputs": [
    {
     "data": {
      "text/html": [
       "<div>\n",
       "<style scoped>\n",
       "    .dataframe tbody tr th:only-of-type {\n",
       "        vertical-align: middle;\n",
       "    }\n",
       "\n",
       "    .dataframe tbody tr th {\n",
       "        vertical-align: top;\n",
       "    }\n",
       "\n",
       "    .dataframe thead th {\n",
       "        text-align: right;\n",
       "    }\n",
       "</style>\n",
       "<table border=\"1\" class=\"dataframe\">\n",
       "  <thead>\n",
       "    <tr style=\"text-align: right;\">\n",
       "      <th></th>\n",
       "      <th>council_district</th>\n",
       "      <th>incident_ID</th>\n",
       "    </tr>\n",
       "  </thead>\n",
       "  <tbody>\n",
       "    <tr>\n",
       "      <th>0</th>\n",
       "      <td>1</td>\n",
       "      <td>243</td>\n",
       "    </tr>\n",
       "    <tr>\n",
       "      <th>1</th>\n",
       "      <td>2</td>\n",
       "      <td>7208</td>\n",
       "    </tr>\n",
       "    <tr>\n",
       "      <th>2</th>\n",
       "      <td>3</td>\n",
       "      <td>72</td>\n",
       "    </tr>\n",
       "    <tr>\n",
       "      <th>3</th>\n",
       "      <td>5</td>\n",
       "      <td>54</td>\n",
       "    </tr>\n",
       "    <tr>\n",
       "      <th>4</th>\n",
       "      <td>6</td>\n",
       "      <td>19546</td>\n",
       "    </tr>\n",
       "    <tr>\n",
       "      <th>5</th>\n",
       "      <td>7</td>\n",
       "      <td>628</td>\n",
       "    </tr>\n",
       "    <tr>\n",
       "      <th>6</th>\n",
       "      <td>8</td>\n",
       "      <td>191</td>\n",
       "    </tr>\n",
       "    <tr>\n",
       "      <th>7</th>\n",
       "      <td>9</td>\n",
       "      <td>6650</td>\n",
       "    </tr>\n",
       "    <tr>\n",
       "      <th>8</th>\n",
       "      <td>10</td>\n",
       "      <td>968</td>\n",
       "    </tr>\n",
       "  </tbody>\n",
       "</table>\n",
       "</div>"
      ],
      "text/plain": [
       "   council_district  incident_ID\n",
       "0                 1          243\n",
       "1                 2         7208\n",
       "2                 3           72\n",
       "3                 5           54\n",
       "4                 6        19546\n",
       "5                 7          628\n",
       "6                 8          191\n",
       "7                 9         6650\n",
       "8                10          968"
      ]
     },
     "execution_count": 25,
     "metadata": {},
     "output_type": "execute_result"
    }
   ],
   "source": [
    "df_merged[df_merged['Latitude'].isnull()] \\\n",
    "                               .groupby('council_district')[['incident_ID']].count().reset_index()"
   ]
  },
  {
   "cell_type": "markdown",
   "metadata": {},
   "source": [
    "## Merge even more FIPS!!!!"
   ]
  },
  {
   "cell_type": "code",
   "execution_count": 26,
   "metadata": {
    "collapsed": true
   },
   "outputs": [],
   "source": [
    "df_geo_Lat_long = pd.read_excel('data/500 Cities Census Tract level Data_GIS Friendly Format.xlsx')"
   ]
  },
  {
   "cell_type": "code",
   "execution_count": 27,
   "metadata": {
    "collapsed": true
   },
   "outputs": [],
   "source": [
    "df_geo_Lat_long = df_geo_Lat_long.filter(['TractFIPS','Geolocation'],axis=1)"
   ]
  },
  {
   "cell_type": "code",
   "execution_count": 28,
   "metadata": {
    "collapsed": true
   },
   "outputs": [],
   "source": [
    "df_geo_Lat_long = df_geo_Lat_long.rename(columns={'TractFIPS': 'FIPS_geoID'})"
   ]
  },
  {
   "cell_type": "code",
   "execution_count": null,
   "metadata": {
    "collapsed": true
   },
   "outputs": [],
   "source": []
  },
  {
   "cell_type": "code",
   "execution_count": null,
   "metadata": {
    "collapsed": true
   },
   "outputs": [],
   "source": [
    "df_geo_Lat_long.shape"
   ]
  },
  {
   "cell_type": "code",
   "execution_count": 29,
   "metadata": {
    "collapsed": true
   },
   "outputs": [],
   "source": [
    "dfmerge2 = pd.merge(df_merged, df_geo_Lat_long, on=\"FIPS_geoID\",how='left')"
   ]
  },
  {
   "cell_type": "code",
   "execution_count": null,
   "metadata": {
    "collapsed": true
   },
   "outputs": [],
   "source": [
    "dfmerge2.head()"
   ]
  },
  {
   "cell_type": "markdown",
   "metadata": {},
   "source": [
    "## Number of null values reduced from roughly 35k to roughly 7k"
   ]
  },
  {
   "cell_type": "code",
   "execution_count": 30,
   "metadata": {},
   "outputs": [
    {
     "data": {
      "text/html": [
       "<div>\n",
       "<style scoped>\n",
       "    .dataframe tbody tr th:only-of-type {\n",
       "        vertical-align: middle;\n",
       "    }\n",
       "\n",
       "    .dataframe tbody tr th {\n",
       "        vertical-align: top;\n",
       "    }\n",
       "\n",
       "    .dataframe thead th {\n",
       "        text-align: right;\n",
       "    }\n",
       "</style>\n",
       "<table border=\"1\" class=\"dataframe\">\n",
       "  <thead>\n",
       "    <tr style=\"text-align: right;\">\n",
       "      <th></th>\n",
       "      <th>council_district</th>\n",
       "      <th>incident_ID</th>\n",
       "    </tr>\n",
       "  </thead>\n",
       "  <tbody>\n",
       "    <tr>\n",
       "      <th>0</th>\n",
       "      <td>1</td>\n",
       "      <td>98</td>\n",
       "    </tr>\n",
       "    <tr>\n",
       "      <th>1</th>\n",
       "      <td>2</td>\n",
       "      <td>4152</td>\n",
       "    </tr>\n",
       "    <tr>\n",
       "      <th>2</th>\n",
       "      <td>3</td>\n",
       "      <td>72</td>\n",
       "    </tr>\n",
       "    <tr>\n",
       "      <th>3</th>\n",
       "      <td>5</td>\n",
       "      <td>54</td>\n",
       "    </tr>\n",
       "    <tr>\n",
       "      <th>4</th>\n",
       "      <td>6</td>\n",
       "      <td>1812</td>\n",
       "    </tr>\n",
       "    <tr>\n",
       "      <th>5</th>\n",
       "      <td>7</td>\n",
       "      <td>669</td>\n",
       "    </tr>\n",
       "    <tr>\n",
       "      <th>6</th>\n",
       "      <td>8</td>\n",
       "      <td>191</td>\n",
       "    </tr>\n",
       "  </tbody>\n",
       "</table>\n",
       "</div>"
      ],
      "text/plain": [
       "   council_district  incident_ID\n",
       "0                 1           98\n",
       "1                 2         4152\n",
       "2                 3           72\n",
       "3                 5           54\n",
       "4                 6         1812\n",
       "5                 7          669\n",
       "6                 8          191"
      ]
     },
     "execution_count": 30,
     "metadata": {},
     "output_type": "execute_result"
    }
   ],
   "source": [
    "dfmerge2[dfmerge2['Geolocation'].isnull()] \\\n",
    "                               .groupby('council_district')[['incident_ID']].count().reset_index()\n",
    "#dfmerge2.isnull().sum()"
   ]
  },
  {
   "cell_type": "code",
   "execution_count": null,
   "metadata": {
    "collapsed": true
   },
   "outputs": [],
   "source": [
    "dfmerge2.shape"
   ]
  },
  {
   "cell_type": "markdown",
   "metadata": {
    "collapsed": true
   },
   "source": [
    "## The GeolocationID column has the Lat, Long in tuple format. I will break that column out into two columns, merge the new columns, then delete the existing Lat, Long columns along with the Geolocation column"
   ]
  },
  {
   "cell_type": "code",
   "execution_count": 31,
   "metadata": {
    "collapsed": true
   },
   "outputs": [],
   "source": [
    "df_new_lat_long = dfmerge2['Geolocation'].str[1:-1].str.split(',', expand=True).astype(float)"
   ]
  },
  {
   "cell_type": "code",
   "execution_count": 32,
   "metadata": {
    "collapsed": true
   },
   "outputs": [],
   "source": [
    "dfmerge3 = pd.merge(dfmerge2, df_new_lat_long, how='outer', left_index=True, right_index=True)"
   ]
  },
  {
   "cell_type": "code",
   "execution_count": 33,
   "metadata": {},
   "outputs": [
    {
     "data": {
      "text/html": [
       "<div>\n",
       "<style scoped>\n",
       "    .dataframe tbody tr th:only-of-type {\n",
       "        vertical-align: middle;\n",
       "    }\n",
       "\n",
       "    .dataframe tbody tr th {\n",
       "        vertical-align: top;\n",
       "    }\n",
       "\n",
       "    .dataframe thead th {\n",
       "        text-align: right;\n",
       "    }\n",
       "</style>\n",
       "<table border=\"1\" class=\"dataframe\">\n",
       "  <thead>\n",
       "    <tr style=\"text-align: right;\">\n",
       "      <th></th>\n",
       "      <th>incident_date</th>\n",
       "      <th>priority</th>\n",
       "      <th>time_phone_pickup</th>\n",
       "      <th>disposition</th>\n",
       "      <th>council_district</th>\n",
       "      <th>census_county_code</th>\n",
       "      <th>census_tract</th>\n",
       "      <th>census_block</th>\n",
       "      <th>census_geoID</th>\n",
       "      <th>FIPS_geoID</th>\n",
       "      <th>...</th>\n",
       "      <th>Hour (10-23)</th>\n",
       "      <th>Hour (0-9)</th>\n",
       "      <th>incident_ID</th>\n",
       "      <th>time_incident_closed</th>\n",
       "      <th>time_unit_arrived</th>\n",
       "      <th>Latitude</th>\n",
       "      <th>Longitude</th>\n",
       "      <th>Geolocation</th>\n",
       "      <th>0</th>\n",
       "      <th>1</th>\n",
       "    </tr>\n",
       "  </thead>\n",
       "  <tbody>\n",
       "    <tr>\n",
       "      <th>0</th>\n",
       "      <td>2012-01-01</td>\n",
       "      <td>4</td>\n",
       "      <td>2011-12-31 20:32:54</td>\n",
       "      <td>ATCEMS Transport</td>\n",
       "      <td>9</td>\n",
       "      <td>453</td>\n",
       "      <td>1100</td>\n",
       "      <td>1118</td>\n",
       "      <td>484530011001118</td>\n",
       "      <td>48453001100</td>\n",
       "      <td>...</td>\n",
       "      <td>1</td>\n",
       "      <td>0</td>\n",
       "      <td>1</td>\n",
       "      <td>2012-01-01 03:40:39</td>\n",
       "      <td>2012-01-01 03:03:07</td>\n",
       "      <td>30.266479</td>\n",
       "      <td>-97.742663</td>\n",
       "      <td>(30.26629505470, -97.7424360537)</td>\n",
       "      <td>30.266295</td>\n",
       "      <td>-97.742436</td>\n",
       "    </tr>\n",
       "    <tr>\n",
       "      <th>1</th>\n",
       "      <td>2012-01-01</td>\n",
       "      <td>4</td>\n",
       "      <td>2012-01-01 00:03:46</td>\n",
       "      <td>Patient Refusal</td>\n",
       "      <td>5</td>\n",
       "      <td>453</td>\n",
       "      <td>2428</td>\n",
       "      <td>1003</td>\n",
       "      <td>484530024281003</td>\n",
       "      <td>48453002428</td>\n",
       "      <td>...</td>\n",
       "      <td>0</td>\n",
       "      <td>1</td>\n",
       "      <td>2</td>\n",
       "      <td>2012-01-01 01:21:12</td>\n",
       "      <td>2012-01-01 00:35:56</td>\n",
       "      <td>30.119780</td>\n",
       "      <td>-97.772128</td>\n",
       "      <td>(30.13889232910, -97.7817189485)</td>\n",
       "      <td>30.138892</td>\n",
       "      <td>-97.781719</td>\n",
       "    </tr>\n",
       "    <tr>\n",
       "      <th>2</th>\n",
       "      <td>2012-01-01</td>\n",
       "      <td>4</td>\n",
       "      <td>2012-01-01 00:08:43</td>\n",
       "      <td>No Patient / False Alarm</td>\n",
       "      <td>9</td>\n",
       "      <td>453</td>\n",
       "      <td>1100</td>\n",
       "      <td>1080</td>\n",
       "      <td>484530011001080</td>\n",
       "      <td>48453001100</td>\n",
       "      <td>...</td>\n",
       "      <td>0</td>\n",
       "      <td>1</td>\n",
       "      <td>3</td>\n",
       "      <td>2012-01-01 00:11:29</td>\n",
       "      <td>NaT</td>\n",
       "      <td>30.266479</td>\n",
       "      <td>-97.742663</td>\n",
       "      <td>(30.26629505470, -97.7424360537)</td>\n",
       "      <td>30.266295</td>\n",
       "      <td>-97.742436</td>\n",
       "    </tr>\n",
       "    <tr>\n",
       "      <th>3</th>\n",
       "      <td>2012-01-01</td>\n",
       "      <td>2</td>\n",
       "      <td>2012-01-01 00:11:47</td>\n",
       "      <td>Patient Refusal</td>\n",
       "      <td>3</td>\n",
       "      <td>453</td>\n",
       "      <td>2314</td>\n",
       "      <td>2010</td>\n",
       "      <td>484530023142010</td>\n",
       "      <td>48453002314</td>\n",
       "      <td>...</td>\n",
       "      <td>0</td>\n",
       "      <td>1</td>\n",
       "      <td>4</td>\n",
       "      <td>2012-01-01 01:03:06</td>\n",
       "      <td>2012-01-01 00:17:22</td>\n",
       "      <td>30.224696</td>\n",
       "      <td>-97.715512</td>\n",
       "      <td>(30.22469644070, -97.7155120457)</td>\n",
       "      <td>30.224696</td>\n",
       "      <td>-97.715512</td>\n",
       "    </tr>\n",
       "    <tr>\n",
       "      <th>4</th>\n",
       "      <td>2012-01-01</td>\n",
       "      <td>3</td>\n",
       "      <td>2012-01-01 00:16:14</td>\n",
       "      <td>ATCEMS Transport</td>\n",
       "      <td>2</td>\n",
       "      <td>453</td>\n",
       "      <td>2430</td>\n",
       "      <td>1019</td>\n",
       "      <td>484530024301019</td>\n",
       "      <td>48453002430</td>\n",
       "      <td>...</td>\n",
       "      <td>0</td>\n",
       "      <td>1</td>\n",
       "      <td>5</td>\n",
       "      <td>2012-01-01 01:09:11</td>\n",
       "      <td>2012-01-01 00:24:58</td>\n",
       "      <td>30.171708</td>\n",
       "      <td>-97.755044</td>\n",
       "      <td>(30.17170820790, -97.7550439193)</td>\n",
       "      <td>30.171708</td>\n",
       "      <td>-97.755044</td>\n",
       "    </tr>\n",
       "  </tbody>\n",
       "</table>\n",
       "<p>5 rows × 27 columns</p>\n",
       "</div>"
      ],
      "text/plain": [
       "  incident_date  priority   time_phone_pickup               disposition  \\\n",
       "0    2012-01-01         4 2011-12-31 20:32:54          ATCEMS Transport   \n",
       "1    2012-01-01         4 2012-01-01 00:03:46           Patient Refusal   \n",
       "2    2012-01-01         4 2012-01-01 00:08:43  No Patient / False Alarm   \n",
       "3    2012-01-01         2 2012-01-01 00:11:47           Patient Refusal   \n",
       "4    2012-01-01         3 2012-01-01 00:16:14          ATCEMS Transport   \n",
       "\n",
       "   council_district  census_county_code  census_tract  census_block  \\\n",
       "0                 9                 453          1100          1118   \n",
       "1                 5                 453          2428          1003   \n",
       "2                 9                 453          1100          1080   \n",
       "3                 3                 453          2314          2010   \n",
       "4                 2                 453          2430          1019   \n",
       "\n",
       "      census_geoID   FIPS_geoID    ...     Hour (10-23)  Hour (0-9)  \\\n",
       "0  484530011001118  48453001100    ...                1           0   \n",
       "1  484530024281003  48453002428    ...                0           1   \n",
       "2  484530011001080  48453001100    ...                0           1   \n",
       "3  484530023142010  48453002314    ...                0           1   \n",
       "4  484530024301019  48453002430    ...                0           1   \n",
       "\n",
       "   incident_ID  time_incident_closed   time_unit_arrived   Latitude  \\\n",
       "0            1   2012-01-01 03:40:39 2012-01-01 03:03:07  30.266479   \n",
       "1            2   2012-01-01 01:21:12 2012-01-01 00:35:56  30.119780   \n",
       "2            3   2012-01-01 00:11:29                 NaT  30.266479   \n",
       "3            4   2012-01-01 01:03:06 2012-01-01 00:17:22  30.224696   \n",
       "4            5   2012-01-01 01:09:11 2012-01-01 00:24:58  30.171708   \n",
       "\n",
       "   Longitude                       Geolocation          0          1  \n",
       "0 -97.742663  (30.26629505470, -97.7424360537)  30.266295 -97.742436  \n",
       "1 -97.772128  (30.13889232910, -97.7817189485)  30.138892 -97.781719  \n",
       "2 -97.742663  (30.26629505470, -97.7424360537)  30.266295 -97.742436  \n",
       "3 -97.715512  (30.22469644070, -97.7155120457)  30.224696 -97.715512  \n",
       "4 -97.755044  (30.17170820790, -97.7550439193)  30.171708 -97.755044  \n",
       "\n",
       "[5 rows x 27 columns]"
      ]
     },
     "execution_count": 33,
     "metadata": {},
     "output_type": "execute_result"
    }
   ],
   "source": [
    "dfmerge3.head()"
   ]
  },
  {
   "cell_type": "code",
   "execution_count": null,
   "metadata": {
    "collapsed": true
   },
   "outputs": [],
   "source": []
  },
  {
   "cell_type": "code",
   "execution_count": 34,
   "metadata": {
    "collapsed": true
   },
   "outputs": [],
   "source": [
    "dfmerge3 = dfmerge3.drop('Latitude',axis=1)\n",
    "dfmerge3 = dfmerge3.drop('Longitude',axis=1)\n",
    "dfmerge3 = dfmerge3.drop('Geolocation',axis=1)"
   ]
  },
  {
   "cell_type": "code",
   "execution_count": 35,
   "metadata": {
    "collapsed": true
   },
   "outputs": [],
   "source": [
    "dfmerge3 = dfmerge3.rename(columns={0: 'Lat',1:'Long'})"
   ]
  },
  {
   "cell_type": "code",
   "execution_count": 36,
   "metadata": {},
   "outputs": [
    {
     "data": {
      "text/html": [
       "<div>\n",
       "<style scoped>\n",
       "    .dataframe tbody tr th:only-of-type {\n",
       "        vertical-align: middle;\n",
       "    }\n",
       "\n",
       "    .dataframe tbody tr th {\n",
       "        vertical-align: top;\n",
       "    }\n",
       "\n",
       "    .dataframe thead th {\n",
       "        text-align: right;\n",
       "    }\n",
       "</style>\n",
       "<table border=\"1\" class=\"dataframe\">\n",
       "  <thead>\n",
       "    <tr style=\"text-align: right;\">\n",
       "      <th></th>\n",
       "      <th>incident_date</th>\n",
       "      <th>priority</th>\n",
       "      <th>time_phone_pickup</th>\n",
       "      <th>disposition</th>\n",
       "      <th>council_district</th>\n",
       "      <th>census_county_code</th>\n",
       "      <th>census_tract</th>\n",
       "      <th>census_block</th>\n",
       "      <th>census_geoID</th>\n",
       "      <th>FIPS_geoID</th>\n",
       "      <th>...</th>\n",
       "      <th>Day_of_week (int)</th>\n",
       "      <th>Day_of_week (name)</th>\n",
       "      <th>Hour</th>\n",
       "      <th>Hour (10-23)</th>\n",
       "      <th>Hour (0-9)</th>\n",
       "      <th>incident_ID</th>\n",
       "      <th>time_incident_closed</th>\n",
       "      <th>time_unit_arrived</th>\n",
       "      <th>Lat</th>\n",
       "      <th>Long</th>\n",
       "    </tr>\n",
       "  </thead>\n",
       "  <tbody>\n",
       "    <tr>\n",
       "      <th>0</th>\n",
       "      <td>2012-01-01</td>\n",
       "      <td>4</td>\n",
       "      <td>2011-12-31 20:32:54</td>\n",
       "      <td>ATCEMS Transport</td>\n",
       "      <td>9</td>\n",
       "      <td>453</td>\n",
       "      <td>1100</td>\n",
       "      <td>1118</td>\n",
       "      <td>484530011001118</td>\n",
       "      <td>48453001100</td>\n",
       "      <td>...</td>\n",
       "      <td>5</td>\n",
       "      <td>Saturday</td>\n",
       "      <td>20</td>\n",
       "      <td>1</td>\n",
       "      <td>0</td>\n",
       "      <td>1</td>\n",
       "      <td>2012-01-01 03:40:39</td>\n",
       "      <td>2012-01-01 03:03:07</td>\n",
       "      <td>30.266295</td>\n",
       "      <td>-97.742436</td>\n",
       "    </tr>\n",
       "    <tr>\n",
       "      <th>1</th>\n",
       "      <td>2012-01-01</td>\n",
       "      <td>4</td>\n",
       "      <td>2012-01-01 00:03:46</td>\n",
       "      <td>Patient Refusal</td>\n",
       "      <td>5</td>\n",
       "      <td>453</td>\n",
       "      <td>2428</td>\n",
       "      <td>1003</td>\n",
       "      <td>484530024281003</td>\n",
       "      <td>48453002428</td>\n",
       "      <td>...</td>\n",
       "      <td>6</td>\n",
       "      <td>Sunday</td>\n",
       "      <td>0</td>\n",
       "      <td>0</td>\n",
       "      <td>1</td>\n",
       "      <td>2</td>\n",
       "      <td>2012-01-01 01:21:12</td>\n",
       "      <td>2012-01-01 00:35:56</td>\n",
       "      <td>30.138892</td>\n",
       "      <td>-97.781719</td>\n",
       "    </tr>\n",
       "    <tr>\n",
       "      <th>2</th>\n",
       "      <td>2012-01-01</td>\n",
       "      <td>4</td>\n",
       "      <td>2012-01-01 00:08:43</td>\n",
       "      <td>No Patient / False Alarm</td>\n",
       "      <td>9</td>\n",
       "      <td>453</td>\n",
       "      <td>1100</td>\n",
       "      <td>1080</td>\n",
       "      <td>484530011001080</td>\n",
       "      <td>48453001100</td>\n",
       "      <td>...</td>\n",
       "      <td>6</td>\n",
       "      <td>Sunday</td>\n",
       "      <td>0</td>\n",
       "      <td>0</td>\n",
       "      <td>1</td>\n",
       "      <td>3</td>\n",
       "      <td>2012-01-01 00:11:29</td>\n",
       "      <td>NaT</td>\n",
       "      <td>30.266295</td>\n",
       "      <td>-97.742436</td>\n",
       "    </tr>\n",
       "    <tr>\n",
       "      <th>3</th>\n",
       "      <td>2012-01-01</td>\n",
       "      <td>2</td>\n",
       "      <td>2012-01-01 00:11:47</td>\n",
       "      <td>Patient Refusal</td>\n",
       "      <td>3</td>\n",
       "      <td>453</td>\n",
       "      <td>2314</td>\n",
       "      <td>2010</td>\n",
       "      <td>484530023142010</td>\n",
       "      <td>48453002314</td>\n",
       "      <td>...</td>\n",
       "      <td>6</td>\n",
       "      <td>Sunday</td>\n",
       "      <td>0</td>\n",
       "      <td>0</td>\n",
       "      <td>1</td>\n",
       "      <td>4</td>\n",
       "      <td>2012-01-01 01:03:06</td>\n",
       "      <td>2012-01-01 00:17:22</td>\n",
       "      <td>30.224696</td>\n",
       "      <td>-97.715512</td>\n",
       "    </tr>\n",
       "    <tr>\n",
       "      <th>4</th>\n",
       "      <td>2012-01-01</td>\n",
       "      <td>3</td>\n",
       "      <td>2012-01-01 00:16:14</td>\n",
       "      <td>ATCEMS Transport</td>\n",
       "      <td>2</td>\n",
       "      <td>453</td>\n",
       "      <td>2430</td>\n",
       "      <td>1019</td>\n",
       "      <td>484530024301019</td>\n",
       "      <td>48453002430</td>\n",
       "      <td>...</td>\n",
       "      <td>6</td>\n",
       "      <td>Sunday</td>\n",
       "      <td>0</td>\n",
       "      <td>0</td>\n",
       "      <td>1</td>\n",
       "      <td>5</td>\n",
       "      <td>2012-01-01 01:09:11</td>\n",
       "      <td>2012-01-01 00:24:58</td>\n",
       "      <td>30.171708</td>\n",
       "      <td>-97.755044</td>\n",
       "    </tr>\n",
       "  </tbody>\n",
       "</table>\n",
       "<p>5 rows × 24 columns</p>\n",
       "</div>"
      ],
      "text/plain": [
       "  incident_date  priority   time_phone_pickup               disposition  \\\n",
       "0    2012-01-01         4 2011-12-31 20:32:54          ATCEMS Transport   \n",
       "1    2012-01-01         4 2012-01-01 00:03:46           Patient Refusal   \n",
       "2    2012-01-01         4 2012-01-01 00:08:43  No Patient / False Alarm   \n",
       "3    2012-01-01         2 2012-01-01 00:11:47           Patient Refusal   \n",
       "4    2012-01-01         3 2012-01-01 00:16:14          ATCEMS Transport   \n",
       "\n",
       "   council_district  census_county_code  census_tract  census_block  \\\n",
       "0                 9                 453          1100          1118   \n",
       "1                 5                 453          2428          1003   \n",
       "2                 9                 453          1100          1080   \n",
       "3                 3                 453          2314          2010   \n",
       "4                 2                 453          2430          1019   \n",
       "\n",
       "      census_geoID   FIPS_geoID    ...     Day_of_week (int)  \\\n",
       "0  484530011001118  48453001100    ...                     5   \n",
       "1  484530024281003  48453002428    ...                     6   \n",
       "2  484530011001080  48453001100    ...                     6   \n",
       "3  484530023142010  48453002314    ...                     6   \n",
       "4  484530024301019  48453002430    ...                     6   \n",
       "\n",
       "   Day_of_week (name)  Hour  Hour (10-23)  Hour (0-9) incident_ID  \\\n",
       "0            Saturday    20             1           0           1   \n",
       "1              Sunday     0             0           1           2   \n",
       "2              Sunday     0             0           1           3   \n",
       "3              Sunday     0             0           1           4   \n",
       "4              Sunday     0             0           1           5   \n",
       "\n",
       "   time_incident_closed   time_unit_arrived        Lat       Long  \n",
       "0   2012-01-01 03:40:39 2012-01-01 03:03:07  30.266295 -97.742436  \n",
       "1   2012-01-01 01:21:12 2012-01-01 00:35:56  30.138892 -97.781719  \n",
       "2   2012-01-01 00:11:29                 NaT  30.266295 -97.742436  \n",
       "3   2012-01-01 01:03:06 2012-01-01 00:17:22  30.224696 -97.715512  \n",
       "4   2012-01-01 01:09:11 2012-01-01 00:24:58  30.171708 -97.755044  \n",
       "\n",
       "[5 rows x 24 columns]"
      ]
     },
     "execution_count": 36,
     "metadata": {},
     "output_type": "execute_result"
    }
   ],
   "source": [
    "dfmerge3.head()"
   ]
  },
  {
   "cell_type": "markdown",
   "metadata": {
    "collapsed": true
   },
   "source": [
    "## Create a column that has a total count for each unique FIPS_geoID. This will be used later in a Gmap funciton to alter the size of the plotted point based on how many incidents occured in the same FIPS_geoID.\n",
    "\n",
    "## This will be done within a funciton in 'Function_creation' notebook"
   ]
  },
  {
   "cell_type": "code",
   "execution_count": null,
   "metadata": {
    "collapsed": true
   },
   "outputs": [],
   "source": [
    "#df_FipCount = dfmerge3.groupby('FIPS_geoID')[['incident_ID']].count().reset_index()"
   ]
  },
  {
   "cell_type": "code",
   "execution_count": null,
   "metadata": {
    "collapsed": true
   },
   "outputs": [],
   "source": [
    "#dfmerge3 = pd.merge(dfmerge3,df_FipCount,how='left',on='FIPS_geoID')"
   ]
  },
  {
   "cell_type": "code",
   "execution_count": null,
   "metadata": {
    "collapsed": true
   },
   "outputs": [],
   "source": [
    "#dfmerge3 = dfmerge3.rename(columns={'incident_ID_y':'Count_per_FIPS'})"
   ]
  },
  {
   "cell_type": "code",
   "execution_count": null,
   "metadata": {
    "collapsed": true
   },
   "outputs": [],
   "source": [
    "#dfmerge3.head()"
   ]
  },
  {
   "cell_type": "markdown",
   "metadata": {
    "collapsed": true
   },
   "source": [
    "## Create a column of the count normalized\n",
    "\n",
    "## This will be done within a funciton in 'Function_creation' notebook"
   ]
  },
  {
   "cell_type": "code",
   "execution_count": null,
   "metadata": {
    "collapsed": true
   },
   "outputs": [],
   "source": [
    "#dfmerge3['Normalized_count'] = dfmerge3['Count_per_FIPS']/dfmerge3['Count_per_FIPS'].max().astype(np.float64)"
   ]
  },
  {
   "cell_type": "code",
   "execution_count": null,
   "metadata": {
    "collapsed": true
   },
   "outputs": [],
   "source": [
    "#dfmerge3.head()"
   ]
  },
  {
   "cell_type": "markdown",
   "metadata": {},
   "source": [
    "## Create a 'size' column. This column will multiply the value of the normalized column by 28 (aribitrary number) if the value is greater than .05. Otherwise it will default the value to be equal to 1.\n",
    "\n",
    "## This will be done within a funciton in 'Function_creation' notebook"
   ]
  },
  {
   "cell_type": "code",
   "execution_count": null,
   "metadata": {
    "collapsed": true
   },
   "outputs": [],
   "source": [
    "# sol = []\n",
    "\n",
    "# for val in dfmerge3['Normalized_count']:\n",
    "#     if val <= .05:\n",
    "#         sol.append(1)\n",
    "#     else:\n",
    "#         sol.append(val*28)\n",
    "\n",
    "# len(sol)      \n",
    "    \n",
    "\n",
    "#dfmerge3['Size'] = [1 if dfmerge3['Normalized_count'].values < .05 else dfmerge3['Normalized_count'].values*28]"
   ]
  },
  {
   "cell_type": "code",
   "execution_count": null,
   "metadata": {
    "collapsed": true
   },
   "outputs": [],
   "source": [
    "#dfmerge3['size'] = sol"
   ]
  },
  {
   "cell_type": "code",
   "execution_count": null,
   "metadata": {
    "collapsed": true
   },
   "outputs": [],
   "source": [
    "#dfmerge3.head(50)"
   ]
  },
  {
   "cell_type": "code",
   "execution_count": null,
   "metadata": {
    "collapsed": true
   },
   "outputs": [],
   "source": [
    "#dfmerge3 = dfmerge3.drop('incident_ID_x',axis=1)"
   ]
  },
  {
   "cell_type": "code",
   "execution_count": null,
   "metadata": {
    "collapsed": true
   },
   "outputs": [],
   "source": []
  },
  {
   "cell_type": "markdown",
   "metadata": {},
   "source": [
    "## Export updated DF to csv"
   ]
  },
  {
   "cell_type": "code",
   "execution_count": 37,
   "metadata": {
    "collapsed": true
   },
   "outputs": [],
   "source": [
    "dfmerge3.to_csv('updated_merged_df')"
   ]
  },
  {
   "cell_type": "markdown",
   "metadata": {},
   "source": [
    "## As seen below, a significant amount of 'Patient Refusals' occur in priorities 1-4. A good addition to this project could be to predict which patients are more likely to refuse ambulance service. That was EMS could use this data to perhaps better set priorities levels."
   ]
  },
  {
   "cell_type": "code",
   "execution_count": null,
   "metadata": {
    "collapsed": true
   },
   "outputs": [],
   "source": [
    "# roughly 1/6 of the data results in a patient refusal, I imagine it would be very useful to predict that\n",
    "pd.value_counts(df2['disposition'].values, sort=True)"
   ]
  },
  {
   "cell_type": "code",
   "execution_count": null,
   "metadata": {
    "collapsed": true
   },
   "outputs": [],
   "source": [
    "df2[df2['disposition'].values=='Patient Refusal'].groupby('priority')[['incident_ID']].count().reset_index()"
   ]
  },
  {
   "cell_type": "code",
   "execution_count": null,
   "metadata": {
    "collapsed": true
   },
   "outputs": [],
   "source": []
  },
  {
   "cell_type": "markdown",
   "metadata": {},
   "source": [
    "## Is there a pattern as to the area these 'Patient Refusals' are occuring in? This analysis will be done on a different Jupyter Notebook. "
   ]
  },
  {
   "cell_type": "code",
   "execution_count": null,
   "metadata": {
    "collapsed": true
   },
   "outputs": [],
   "source": []
  },
  {
   "cell_type": "code",
   "execution_count": null,
   "metadata": {
    "collapsed": true
   },
   "outputs": [],
   "source": []
  }
 ],
 "metadata": {
  "kernelspec": {
   "display_name": "Python 3",
   "language": "python",
   "name": "python3"
  },
  "language_info": {
   "codemirror_mode": {
    "name": "ipython",
    "version": 3
   },
   "file_extension": ".py",
   "mimetype": "text/x-python",
   "name": "python",
   "nbconvert_exporter": "python",
   "pygments_lexer": "ipython3",
   "version": "3.6.3"
  }
 },
 "nbformat": 4,
 "nbformat_minor": 2
}

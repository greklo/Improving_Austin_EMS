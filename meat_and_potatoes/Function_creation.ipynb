{
 "cells": [
  {
   "cell_type": "code",
   "execution_count": 1,
   "metadata": {
    "collapsed": true
   },
   "outputs": [],
   "source": [
    "import pandas as pd\n",
    "import numpy as np\n",
    "from sklearn.cluster import KMeans\n",
    "from collections import Counter\n",
    "import os\n",
    "\n",
    "\n",
    "# Google Maps Geo-plot API\n",
    "from bokeh.models import (\n",
    "   GMapPlot, GMapOptions, ColumnDataSource, Circle, Range1d, PanTool, WheelZoomTool, HoverTool, BoxSelectTool\n",
    " )\n",
    "from bokeh.io import output_file, show, output_notebook, curdoc\n",
    "from bokeh.plotting import figure, output_file\n",
    "from bokeh.models.callbacks import CustomJS\n",
    "\n",
    "\n",
    "import warnings\n",
    "warnings.filterwarnings('ignore')\n",
    "\n",
    "import matplotlib.pyplot as plt\n",
    "%matplotlib inline"
   ]
  },
  {
   "cell_type": "code",
   "execution_count": 2,
   "metadata": {
    "collapsed": true
   },
   "outputs": [],
   "source": [
    "df = pd.read_csv('data/updated_merged_df')"
   ]
  },
  {
   "cell_type": "code",
   "execution_count": null,
   "metadata": {
    "collapsed": true
   },
   "outputs": [],
   "source": [
    "# df[df['FIPS_geoID'] == 48453001118]\n",
    "#df.groupby('FIPS_geoID')['priority'].count().reset_index(name = 'count').sort_values('count', ascending = False)"
   ]
  },
  {
   "cell_type": "code",
   "execution_count": null,
   "metadata": {
    "collapsed": true
   },
   "outputs": [],
   "source": [
    "#df.columns"
   ]
  },
  {
   "cell_type": "code",
   "execution_count": null,
   "metadata": {
    "collapsed": true
   },
   "outputs": [],
   "source": [
    "#df[df['Day_of_week (name)']=='Saturday'].count()"
   ]
  },
  {
   "cell_type": "code",
   "execution_count": null,
   "metadata": {
    "collapsed": true
   },
   "outputs": [],
   "source": []
  },
  {
   "cell_type": "markdown",
   "metadata": {},
   "source": [
    "## Create a function that takes a dataframe and adds an additional column (Normalized count for that particular FIPS_geoID. This function will be used within the filter_df function (below) to ensure the count represents the time of day and day of week."
   ]
  },
  {
   "cell_type": "code",
   "execution_count": 3,
   "metadata": {
    "collapsed": true
   },
   "outputs": [],
   "source": [
    "def create_size_column(data):\n",
    "    df_fips = data.groupby('FIPS_geoID')[['priority']].count().reset_index()\n",
    "    df2 = pd.merge(data,df_fips,how='left',on='FIPS_geoID')\n",
    "    df2 = df2.rename(columns={'priority_y':'Count_per_FIPS'})\n",
    "    df2['Normalized_count'] = df2['Count_per_FIPS']/df2['Count_per_FIPS'].max().astype(np.float64)\n",
    "    sol = []\n",
    "    for val in df2['Normalized_count']:\n",
    "        if val <= .11:\n",
    "            sol.append(2)\n",
    "        else:\n",
    "            sol.append(val*28)\n",
    "    df2['size'] = sol\n",
    "    return df2"
   ]
  },
  {
   "cell_type": "code",
   "execution_count": null,
   "metadata": {
    "collapsed": true
   },
   "outputs": [],
   "source": [
    "#create_size_column(df)"
   ]
  },
  {
   "cell_type": "code",
   "execution_count": null,
   "metadata": {
    "collapsed": true
   },
   "outputs": [],
   "source": []
  },
  {
   "cell_type": "markdown",
   "metadata": {},
   "source": [
    "## Create a function that takes a DF and returns a new DF with four fields (Day of week, Hour of Day, Lat, Long, and size column)\n",
    "\n",
    "## Arguments will be day (string) and hour (int)"
   ]
  },
  {
   "cell_type": "code",
   "execution_count": 4,
   "metadata": {
    "collapsed": true
   },
   "outputs": [],
   "source": [
    "def filter_df(data,day,hour):\n",
    "    \"\"\"This function takes a dataframe and returns a data frame with only: \n",
    "       - Day of week\n",
    "       - Hour of day\n",
    "       - Lat\n",
    "       - Long\n",
    "       - Count_per_FIPS\n",
    "       - Size column\n",
    "       \n",
    "       Inputs:\n",
    "       - Dataframe\n",
    "       - Day in string format\n",
    "       - Hour in int format\n",
    "       \n",
    "       Output: A dataframe of: \n",
    "       - Lats\n",
    "       - Longs \n",
    "       - Filtered based on the hour and the day put into the function\n",
    "       - Count of Lats, Longs\n",
    "       - Size column for plotting\n",
    "       \"\"\"\n",
    "    # Filter columns\n",
    "    col_lst = ['Day_of_week (name)','Hour','Lat','Long','FIPS_geoID','priority']\n",
    "    lst = []\n",
    "    for columns in data.columns:\n",
    "        if columns in col_lst:\n",
    "            lst.append(columns)\n",
    "    \n",
    "    new_df = data[lst]\n",
    "    \n",
    "    # Filter rows by Day value\n",
    "    new_df = new_df[new_df['Day_of_week (name)']==day]\n",
    "    #print(new_df['Day_of_week (name)'].nunique())\n",
    "    \n",
    "    #Filter rows by Hour value\n",
    "    new_df = new_df[new_df['Hour']==hour]\n",
    "    #print(new_df['Hour'].nunique())\n",
    "    \n",
    "    # Drop NaN rows\n",
    "    new_df = new_df.dropna()\n",
    "    \n",
    "    # Apply 'create_size_column' function that will count incident occurences for filtered df\n",
    "    new_df = create_size_column(new_df)\n",
    "    \n",
    "    return new_df[['FIPS_geoID','Lat','Long','Count_per_FIPS','size']]"
   ]
  },
  {
   "cell_type": "code",
   "execution_count": null,
   "metadata": {
    "collapsed": true
   },
   "outputs": [],
   "source": [
    "#np.array(df[['Lat','Long']])"
   ]
  },
  {
   "cell_type": "code",
   "execution_count": null,
   "metadata": {
    "collapsed": true
   },
   "outputs": [],
   "source": [
    "df_test = filter_df(df,'Monday',5)\n",
    "type(df_test)"
   ]
  },
  {
   "cell_type": "code",
   "execution_count": null,
   "metadata": {
    "collapsed": true
   },
   "outputs": [],
   "source": [
    "# create a dataframe with only unique FIPS_geoID and a count\n",
    "#df_group = df_test.groupby('FIPS_geoID')[['Lat','Long','Count_per_FIPS','size']]"
   ]
  },
  {
   "cell_type": "code",
   "execution_count": null,
   "metadata": {
    "collapsed": true
   },
   "outputs": [],
   "source": []
  },
  {
   "cell_type": "code",
   "execution_count": null,
   "metadata": {
    "collapsed": true
   },
   "outputs": [],
   "source": [
    "#df_grouped = df_test.groupby(['FIPS_geoID','Lat','Long','size']\n",
    "df_grouped = df_test.groupby(['FIPS_geoID','Lat','Long','size'])['Count_per_FIPS'].count() \\\n",
    "                    .reset_index(name = 'count').sort_values('count')\n",
    "# df_test[(df_test.Lat == 30.426141) & (df_test.Long == -97.769773)]"
   ]
  },
  {
   "cell_type": "code",
   "execution_count": null,
   "metadata": {
    "collapsed": true
   },
   "outputs": [],
   "source": [
    "df_grouped.shape"
   ]
  },
  {
   "cell_type": "markdown",
   "metadata": {
    "collapsed": true
   },
   "source": [
    "## Creat a function that outputs a Geomap with all the centroids and lat, longs.\n",
    "\n",
    "## I need to figure out a way to adjust centroid size depending on how many incident points fall within a certain radius of it. "
   ]
  },
  {
   "cell_type": "code",
   "execution_count": 5,
   "metadata": {
    "collapsed": true
   },
   "outputs": [],
   "source": [
    "def plot_df(data,day,hour,num_centroids):\n",
    "    \"\"\"This function takes a dataframe and plots the centroids vs the Lats, Longs of the incident data-points\n",
    "       \n",
    "       Inputs:\n",
    "       - Dataframe\n",
    "       - Day in string format\n",
    "       - Hour in int format\n",
    "       - Number of centroids wanted\n",
    "       \n",
    "       Output: A plot of lats and longs, overlayed on a map of Austin, \n",
    "               filtered based on the hour and the day put into the function\n",
    "    \"\"\"\n",
    "    \n",
    "    # Using the function created before, applying the proper format to the dataframe for modeling\n",
    "    new_df = filter_df(data,day,hour)\n",
    "    \n",
    "    \n",
    "    # Create a dataframe that has one count per FIPS_geoID\n",
    "    # This will be used for the hover tool so that only one total count is shown when one hovers\n",
    "    # Includes Lat, Long, count, size\n",
    "    df_count = new_df.groupby(['FIPS_geoID','Lat','Long','size'])['Count_per_FIPS'].count() \\\n",
    "                     .reset_index(name = 'count').sort_values('count')\n",
    "    \n",
    "    \n",
    "    \n",
    "    # Modeling the data with KMeans\n",
    "    X = np.array(new_df[['Lat','Long']])\n",
    "    model = KMeans(n_init=100,n_clusters=num_centroids,max_iter=400,tol=1e-8)\n",
    "    model.fit(X)\n",
    "    centroids = model.cluster_centers_\n",
    "    \n",
    "    # Defining the Lat,Long to pass into Google maps API \n",
    "    cent_lats = list(centroids[:,0])\n",
    "    cent_longs = list(centroids[:,1])\n",
    "    \n",
    "    # Actual Lat,Long of incidents\n",
    "    incident_lats = list(df_count['Lat'])\n",
    "    incident_longs = list(df_count['Long'])\n",
    "    \n",
    "    # Normalized FIPS count to alter plot point size based on count of incidents\n",
    "    #df_size = new_df['size'].values\n",
    "    \n",
    "    \n",
    "    \n",
    "    \n",
    "    # Geoplotting!!!!!!!!\n",
    "    map_options = GMapOptions(lat=30.2672, lng=-97.7431, map_type=\"roadmap\", zoom=11)\n",
    "\n",
    "    plot = GMapPlot(\n",
    "    x_range=Range1d(), y_range=Range1d(), map_options=map_options)\n",
    "    plot.title.text = \"Austin (Day: {}, Hour: {})\".format(day,hour)\n",
    "\n",
    "    # For GMaps to function, Google requires you obtain and enable an API key:\n",
    "    #\n",
    "    # https://developers.google.com/maps/documentation/javascript/get-api-key\n",
    "    #\n",
    "    # Replace the value below with your personal API key:\n",
    "    plot.api_key = os.environ['GOOGLE_API_KEY']\n",
    "    \n",
    "    \n",
    "    completed_source = ColumnDataSource( data=dict(\n",
    "    lat=cent_lats,\n",
    "    lon=cent_longs,))\n",
    "    completed_dots = Circle(x=\"lon\", y=\"lat\", size=55, fill_color=\"blue\", fill_alpha=0.2, line_color=None)\n",
    "    plot.add_glyph(completed_source, completed_dots)\n",
    "    \n",
    "    completed_source = ColumnDataSource( data=dict(\n",
    "    lat=incident_lats,\n",
    "    lon=incident_longs,\n",
    "    size=df_count['size'].values,\n",
    "    count=df_count['count'].values))\n",
    "    \n",
    "    \n",
    "    # Size of lat,long plots will be determind from the normalized count column\n",
    "    # If size < .11 then the plot will be size=2 ... otherwise it will multiply by 28\n",
    "  \n",
    "    completed_dots = Circle(x=\"lon\", y=\"lat\", size=\"size\", fill_color=\"red\", fill_alpha=0.8, line_color=None)\n",
    "    plot.add_glyph(completed_source, completed_dots)\n",
    "    \n",
    "    \n",
    "    # Hover tool implementation\n",
    "    hover = HoverTool(tooltips=[\n",
    "                     (\"Incident Count\", \"@count\")])\n",
    "   \n",
    "    \n",
    "    # The P variables below are changing the location of my centroids, not sure what's going on here\n",
    "    #p = figure(plot_width=200, plot_height=200, tools=[hover],title=\"Mouse over the dots\")\n",
    "\n",
    "    #p.circle('lon', 'lat', size=5, source=completed_source)\n",
    "\n",
    "    #show(p)\n",
    "\n",
    "   \n",
    "    plot.add_tools(PanTool(), WheelZoomTool(), BoxSelectTool(),hover)\n",
    "    show(plot)\n",
    "    "
   ]
  },
  {
   "cell_type": "markdown",
   "metadata": {},
   "source": [
    "## Plot below"
   ]
  },
  {
   "cell_type": "code",
   "execution_count": 6,
   "metadata": {},
   "outputs": [],
   "source": [
    "plot_df(df,'Wednesday',5,10)"
   ]
  },
  {
   "cell_type": "code",
   "execution_count": null,
   "metadata": {
    "collapsed": true
   },
   "outputs": [],
   "source": []
  },
  {
   "cell_type": "code",
   "execution_count": null,
   "metadata": {
    "collapsed": true
   },
   "outputs": [],
   "source": []
  },
  {
   "cell_type": "code",
   "execution_count": null,
   "metadata": {
    "collapsed": true
   },
   "outputs": [],
   "source": []
  },
  {
   "cell_type": "code",
   "execution_count": null,
   "metadata": {
    "collapsed": true
   },
   "outputs": [],
   "source": []
  },
  {
   "cell_type": "code",
   "execution_count": null,
   "metadata": {
    "collapsed": true
   },
   "outputs": [],
   "source": [
    "#p = Figure(plot_width=500, plot_height=300)\n",
    "#source_datapoints = ColumnDataSource(data=dict(x=[0,10], y=[0,10]))\n",
    "source_update = ColumnDataSource(data=dict(x=[], y=[]))\n",
    "#p.circle(x='x', y='y', size=7, source=source_datapoints, color=\"blue\", line_width=3)\n",
    "\n",
    "def do_stuff(attr, old, new):\n",
    "    source_datapoints.stream(new)\n",
    "    print len(source_datapoints.data['x'])\n",
    "\n",
    "def display_event():\n",
    "    return CustomJS(args=dict(source_update=source_update),  code=\"\"\"\n",
    "    if (cb_obj.event_name == 'tap') {\n",
    "        source_update.data = {\n",
    "            'x' : [cb_obj.x],\n",
    "            'y' : [cb_obj.y]\n",
    "        };\n",
    "\n",
    "/*\n",
    "//      IS THE CHANGE FASTER TO VISUALIZE ON THE BROWSER?\n",
    "        new_data = {\n",
    "            'x' : [cb_obj.x],\n",
    "            'y' : [cb_obj.y]\n",
    "        };\n",
    "        source_datapoints.stream(new_data)\n",
    "        source_update.data = new_data\n",
    "*/\n",
    "    }\n",
    "    \"\"\" )\n",
    "p.js_on_event(\"tap\", display_event())\n",
    "\n",
    "source_update.on_change('data', do_stuff)\n",
    "\n",
    "curdoc().add_root(p)"
   ]
  },
  {
   "cell_type": "code",
   "execution_count": null,
   "metadata": {
    "collapsed": true
   },
   "outputs": [],
   "source": []
  },
  {
   "cell_type": "code",
   "execution_count": null,
   "metadata": {
    "collapsed": true
   },
   "outputs": [],
   "source": []
  },
  {
   "cell_type": "code",
   "execution_count": null,
   "metadata": {
    "collapsed": true
   },
   "outputs": [],
   "source": []
  },
  {
   "cell_type": "code",
   "execution_count": null,
   "metadata": {
    "collapsed": true
   },
   "outputs": [],
   "source": []
  },
  {
   "cell_type": "code",
   "execution_count": null,
   "metadata": {
    "collapsed": true
   },
   "outputs": [],
   "source": []
  },
  {
   "cell_type": "code",
   "execution_count": null,
   "metadata": {
    "collapsed": true
   },
   "outputs": [],
   "source": []
  },
  {
   "cell_type": "markdown",
   "metadata": {},
   "source": [
    "## Bunch of testing below nothing to see here"
   ]
  },
  {
   "cell_type": "code",
   "execution_count": null,
   "metadata": {
    "collapsed": true
   },
   "outputs": [],
   "source": [
    "#plt.scatter(np.array(df['Lat']),np.array(df['Long']))"
   ]
  },
  {
   "cell_type": "code",
   "execution_count": null,
   "metadata": {
    "collapsed": true
   },
   "outputs": [],
   "source": [
    "#type(df[\"Year\"].values[0])"
   ]
  },
  {
   "cell_type": "code",
   "execution_count": null,
   "metadata": {
    "collapsed": true
   },
   "outputs": [],
   "source": [
    "#df[df['Year']==2012 & df['Day_of_week (name)']=='Monday' & df['Hour']==2]"
   ]
  },
  {
   "cell_type": "code",
   "execution_count": null,
   "metadata": {
    "collapsed": true
   },
   "outputs": [],
   "source": []
  },
  {
   "cell_type": "code",
   "execution_count": null,
   "metadata": {
    "collapsed": true
   },
   "outputs": [],
   "source": [
    "df_test.columns"
   ]
  },
  {
   "cell_type": "code",
   "execution_count": null,
   "metadata": {
    "collapsed": true
   },
   "outputs": [],
   "source": [
    "#df_test['normalize_count']=(df['Count_per_FIPS']-df['Count_per_FIPS'].mean())/df['Count_per_FIPS'].std()"
   ]
  },
  {
   "cell_type": "code",
   "execution_count": null,
   "metadata": {
    "collapsed": true
   },
   "outputs": [],
   "source": [
    "#df_test['normalize_count'].max()"
   ]
  },
  {
   "cell_type": "code",
   "execution_count": null,
   "metadata": {
    "collapsed": true
   },
   "outputs": [],
   "source": []
  },
  {
   "cell_type": "code",
   "execution_count": null,
   "metadata": {
    "collapsed": true
   },
   "outputs": [],
   "source": []
  },
  {
   "cell_type": "code",
   "execution_count": null,
   "metadata": {
    "collapsed": true
   },
   "outputs": [],
   "source": []
  },
  {
   "cell_type": "code",
   "execution_count": null,
   "metadata": {
    "collapsed": true
   },
   "outputs": [],
   "source": [
    "df_test['Normalized_count'] = df_test['Count_per_FIPS']/df['Count_per_FIPS'].max().astype(np.float64)"
   ]
  },
  {
   "cell_type": "code",
   "execution_count": null,
   "metadata": {
    "collapsed": true
   },
   "outputs": [],
   "source": [
    "df_test['Normalized_count'].nunique()"
   ]
  },
  {
   "cell_type": "code",
   "execution_count": 9,
   "metadata": {},
   "outputs": [
    {
     "data": {
      "text/html": [
       "<div style=\"display: table;\"><div style=\"display: table-row;\"><div style=\"display: table-cell;\"><b title=\"bokeh.models.map_plots.GMapOptions\">GMapOptions</b>(</div><div style=\"display: table-cell;\">id&nbsp;=&nbsp;'10f3420e-0892-4d75-870b-8135aefd2cca', <span id=\"e9c2bd7d-9f4b-41fc-b587-50ddc09493cd\" style=\"cursor: pointer;\">&hellip;)</span></div></div><div class=\"4ca10de2-e2e9-4047-9360-ec3fec296838\" style=\"display: none;\"><div style=\"display: table-cell;\"></div><div style=\"display: table-cell;\">js_event_callbacks&nbsp;=&nbsp;{},</div></div><div class=\"4ca10de2-e2e9-4047-9360-ec3fec296838\" style=\"display: none;\"><div style=\"display: table-cell;\"></div><div style=\"display: table-cell;\">js_property_callbacks&nbsp;=&nbsp;{},</div></div><div class=\"4ca10de2-e2e9-4047-9360-ec3fec296838\" style=\"display: none;\"><div style=\"display: table-cell;\"></div><div style=\"display: table-cell;\">lat&nbsp;=&nbsp;30.2672,</div></div><div class=\"4ca10de2-e2e9-4047-9360-ec3fec296838\" style=\"display: none;\"><div style=\"display: table-cell;\"></div><div style=\"display: table-cell;\">lng&nbsp;=&nbsp;-97.7431,</div></div><div class=\"4ca10de2-e2e9-4047-9360-ec3fec296838\" style=\"display: none;\"><div style=\"display: table-cell;\"></div><div style=\"display: table-cell;\">map_type&nbsp;=&nbsp;'roadmap',</div></div><div class=\"4ca10de2-e2e9-4047-9360-ec3fec296838\" style=\"display: none;\"><div style=\"display: table-cell;\"></div><div style=\"display: table-cell;\">name&nbsp;=&nbsp;None,</div></div><div class=\"4ca10de2-e2e9-4047-9360-ec3fec296838\" style=\"display: none;\"><div style=\"display: table-cell;\"></div><div style=\"display: table-cell;\">scale_control&nbsp;=&nbsp;False,</div></div><div class=\"4ca10de2-e2e9-4047-9360-ec3fec296838\" style=\"display: none;\"><div style=\"display: table-cell;\"></div><div style=\"display: table-cell;\">styles&nbsp;=&nbsp;None,</div></div><div class=\"4ca10de2-e2e9-4047-9360-ec3fec296838\" style=\"display: none;\"><div style=\"display: table-cell;\"></div><div style=\"display: table-cell;\">subscribed_events&nbsp;=&nbsp;[],</div></div><div class=\"4ca10de2-e2e9-4047-9360-ec3fec296838\" style=\"display: none;\"><div style=\"display: table-cell;\"></div><div style=\"display: table-cell;\">tags&nbsp;=&nbsp;[],</div></div><div class=\"4ca10de2-e2e9-4047-9360-ec3fec296838\" style=\"display: none;\"><div style=\"display: table-cell;\"></div><div style=\"display: table-cell;\">zoom&nbsp;=&nbsp;11)</div></div></div>\n",
       "<script>\n",
       "(function() {\n",
       "  var expanded = false;\n",
       "  var ellipsis = document.getElementById(\"e9c2bd7d-9f4b-41fc-b587-50ddc09493cd\");\n",
       "  ellipsis.addEventListener(\"click\", function() {\n",
       "    var rows = document.getElementsByClassName(\"4ca10de2-e2e9-4047-9360-ec3fec296838\");\n",
       "    for (var i = 0; i < rows.length; i++) {\n",
       "      var el = rows[i];\n",
       "      el.style.display = expanded ? \"none\" : \"table-row\";\n",
       "    }\n",
       "    ellipsis.innerHTML = expanded ? \"&hellip;)\" : \"&lsaquo;&lsaquo;&lsaquo;\";\n",
       "    expanded = !expanded;\n",
       "  });\n",
       "})();\n",
       "</script>\n"
      ],
      "text/plain": [
       "GMapOptions(id='10f3420e-0892-4d75-870b-8135aefd2cca', ...)"
      ]
     },
     "execution_count": 9,
     "metadata": {},
     "output_type": "execute_result"
    }
   ],
   "source": [
    "GMapOptions(lat=30.2672, lng=-97.7431, map_type=\"roadmap\", zoom=11)"
   ]
  },
  {
   "cell_type": "code",
   "execution_count": 15,
   "metadata": {},
   "outputs": [
    {
     "ename": "ValueError",
     "evalue": "Invalid value for 'x_range', MapPlot ranges may only be Range1d, not data ranges",
     "output_type": "error",
     "traceback": [
      "\u001b[0;31m---------------------------------------------------------------------------\u001b[0m",
      "\u001b[0;31mValueError\u001b[0m                                Traceback (most recent call last)",
      "\u001b[0;32m<ipython-input-15-0eef50e54c6f>\u001b[0m in \u001b[0;36m<module>\u001b[0;34m()\u001b[0m\n\u001b[1;32m      1\u001b[0m \u001b[0mmap_options\u001b[0m \u001b[0;34m=\u001b[0m \u001b[0mGMapOptions\u001b[0m\u001b[0;34m(\u001b[0m\u001b[0mlat\u001b[0m\u001b[0;34m=\u001b[0m\u001b[0;36m30.2672\u001b[0m\u001b[0;34m,\u001b[0m \u001b[0mlng\u001b[0m\u001b[0;34m=\u001b[0m\u001b[0;34m-\u001b[0m\u001b[0;36m97.7431\u001b[0m\u001b[0;34m,\u001b[0m \u001b[0mmap_type\u001b[0m\u001b[0;34m=\u001b[0m\u001b[0;34m\"roadmap\"\u001b[0m\u001b[0;34m,\u001b[0m \u001b[0mzoom\u001b[0m\u001b[0;34m=\u001b[0m\u001b[0;36m11\u001b[0m\u001b[0;34m)\u001b[0m\u001b[0;34m\u001b[0m\u001b[0m\n\u001b[1;32m      2\u001b[0m \u001b[0;34m\u001b[0m\u001b[0m\n\u001b[0;32m----> 3\u001b[0;31m \u001b[0mplot\u001b[0m \u001b[0;34m=\u001b[0m \u001b[0mGMapPlot\u001b[0m\u001b[0;34m(\u001b[0m\u001b[0mx_range\u001b[0m\u001b[0;34m=\u001b[0m\u001b[0mDataRange1d\u001b[0m\u001b[0;34m(\u001b[0m\u001b[0;34m)\u001b[0m\u001b[0;34m,\u001b[0m \u001b[0my_range\u001b[0m\u001b[0;34m=\u001b[0m\u001b[0mDataRange1d\u001b[0m\u001b[0;34m(\u001b[0m\u001b[0;34m)\u001b[0m\u001b[0;34m,\u001b[0m \u001b[0mmap_options\u001b[0m\u001b[0;34m=\u001b[0m\u001b[0mmap_options\u001b[0m\u001b[0;34m)\u001b[0m\u001b[0;34m\u001b[0m\u001b[0m\n\u001b[0m\u001b[1;32m      4\u001b[0m \u001b[0mplot\u001b[0m\u001b[0;34m.\u001b[0m\u001b[0mtitle\u001b[0m\u001b[0;34m.\u001b[0m\u001b[0mtext\u001b[0m \u001b[0;34m=\u001b[0m \u001b[0;34m\"Austin (Day: {}, Hour: {})\"\u001b[0m\u001b[0;34m.\u001b[0m\u001b[0mformat\u001b[0m\u001b[0;34m(\u001b[0m\u001b[0mday\u001b[0m\u001b[0;34m,\u001b[0m\u001b[0mhour\u001b[0m\u001b[0;34m)\u001b[0m\u001b[0;34m\u001b[0m\u001b[0m\n",
      "\u001b[0;32m~/anaconda3/lib/python3.6/site-packages/bokeh/models/map_plots.py\u001b[0m in \u001b[0;36m__init__\u001b[0;34m(self, *args, **kw)\u001b[0m\n\u001b[1;32m     41\u001b[0m         \u001b[0;32mfor\u001b[0m \u001b[0mr\u001b[0m \u001b[0;32min\u001b[0m \u001b[0;34m(\u001b[0m\u001b[0;34m'x_range'\u001b[0m\u001b[0;34m,\u001b[0m \u001b[0;34m'y_range'\u001b[0m\u001b[0;34m)\u001b[0m\u001b[0;34m:\u001b[0m\u001b[0;34m\u001b[0m\u001b[0m\n\u001b[1;32m     42\u001b[0m             \u001b[0;32mif\u001b[0m \u001b[0mr\u001b[0m \u001b[0;32min\u001b[0m \u001b[0mkw\u001b[0m \u001b[0;32mand\u001b[0m \u001b[0;32mnot\u001b[0m \u001b[0misinstance\u001b[0m\u001b[0;34m(\u001b[0m\u001b[0mkw\u001b[0m\u001b[0;34m.\u001b[0m\u001b[0mget\u001b[0m\u001b[0;34m(\u001b[0m\u001b[0mr\u001b[0m\u001b[0;34m)\u001b[0m\u001b[0;34m,\u001b[0m \u001b[0mRange1d\u001b[0m\u001b[0;34m)\u001b[0m\u001b[0;34m:\u001b[0m\u001b[0;34m\u001b[0m\u001b[0m\n\u001b[0;32m---> 43\u001b[0;31m                 \u001b[0;32mraise\u001b[0m \u001b[0mValueError\u001b[0m\u001b[0;34m(\u001b[0m\u001b[0;34m'Invalid value for %r, MapPlot ranges may only be Range1d, not data ranges'\u001b[0m \u001b[0;34m%\u001b[0m \u001b[0mr\u001b[0m\u001b[0;34m)\u001b[0m\u001b[0;34m\u001b[0m\u001b[0m\n\u001b[0m\u001b[1;32m     44\u001b[0m         \u001b[0msuper\u001b[0m\u001b[0;34m(\u001b[0m\u001b[0mMapPlot\u001b[0m\u001b[0;34m,\u001b[0m \u001b[0mself\u001b[0m\u001b[0;34m)\u001b[0m\u001b[0;34m.\u001b[0m\u001b[0m__init__\u001b[0m\u001b[0;34m(\u001b[0m\u001b[0;34m*\u001b[0m\u001b[0margs\u001b[0m\u001b[0;34m,\u001b[0m \u001b[0;34m**\u001b[0m\u001b[0mkw\u001b[0m\u001b[0;34m)\u001b[0m\u001b[0;34m\u001b[0m\u001b[0m\n\u001b[1;32m     45\u001b[0m \u001b[0;34m\u001b[0m\u001b[0m\n",
      "\u001b[0;31mValueError\u001b[0m: Invalid value for 'x_range', MapPlot ranges may only be Range1d, not data ranges"
     ]
    }
   ],
   "source": [
    "map_options = GMapOptions(lat=30.2672, lng=-97.7431, map_type=\"roadmap\", zoom=11)\n",
    "\n",
    "plot = GMapPlot(x_range=DataRange1d(), y_range=DataRange1d(), map_options=map_options)\n",
    "plot.title.text = \"Austin (Day: {}, Hour: {})\".format(day,hour)"
   ]
  },
  {
   "cell_type": "code",
   "execution_count": null,
   "metadata": {
    "collapsed": true
   },
   "outputs": [],
   "source": []
  }
 ],
 "metadata": {
  "kernelspec": {
   "display_name": "Python 3",
   "language": "python",
   "name": "python3"
  },
  "language_info": {
   "codemirror_mode": {
    "name": "ipython",
    "version": 3
   },
   "file_extension": ".py",
   "mimetype": "text/x-python",
   "name": "python",
   "nbconvert_exporter": "python",
   "pygments_lexer": "ipython3",
   "version": "3.6.3"
  }
 },
 "nbformat": 4,
 "nbformat_minor": 2
}
